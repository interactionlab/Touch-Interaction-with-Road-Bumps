{
 "cells": [
  {
   "cell_type": "code",
   "execution_count": 1,
   "metadata": {},
   "outputs": [],
   "source": [
    "library(ez)"
   ]
  },
  {
   "cell_type": "code",
   "execution_count": 2,
   "metadata": {},
   "outputs": [
    {
     "data": {
      "text/html": [
       "<dl>\n",
       "\t<dt>$ANOVA</dt>\n",
       "\t\t<dd><table>\n",
       "<thead><tr><th></th><th scope=col>Effect</th><th scope=col>DFn</th><th scope=col>DFd</th><th scope=col>F</th><th scope=col>p</th><th scope=col>p&lt;.05</th><th scope=col>ges</th></tr></thead>\n",
       "<tbody>\n",
       "\t<tr><th scope=row>2</th><td>IsBump               </td><td>1                    </td><td>15                   </td><td>1.6789680            </td><td>0.2146467            </td><td>                     </td><td>0.003452240          </td></tr>\n",
       "\t<tr><th scope=row>3</th><td>SpeedCondition       </td><td>4                    </td><td>60                   </td><td>0.4266470            </td><td>0.7888059            </td><td>                     </td><td>0.003890741          </td></tr>\n",
       "\t<tr><th scope=row>4</th><td>IsBump:SpeedCondition</td><td>4                    </td><td>60                   </td><td>0.9139983            </td><td>0.4617506            </td><td>                     </td><td>0.001264484          </td></tr>\n",
       "</tbody>\n",
       "</table>\n",
       "</dd>\n",
       "\t<dt>$`Mauchly's Test for Sphericity`</dt>\n",
       "\t\t<dd><table>\n",
       "<thead><tr><th></th><th scope=col>Effect</th><th scope=col>W</th><th scope=col>p</th><th scope=col>p&lt;.05</th></tr></thead>\n",
       "<tbody>\n",
       "\t<tr><th scope=row>3</th><td>SpeedCondition       </td><td>0.2005182            </td><td>0.01096836           </td><td>*                    </td></tr>\n",
       "\t<tr><th scope=row>4</th><td>IsBump:SpeedCondition</td><td>0.4475639            </td><td>0.29440946           </td><td>                     </td></tr>\n",
       "</tbody>\n",
       "</table>\n",
       "</dd>\n",
       "\t<dt>$`Sphericity Corrections`</dt>\n",
       "\t\t<dd><table>\n",
       "<thead><tr><th></th><th scope=col>Effect</th><th scope=col>GGe</th><th scope=col>p[GG]</th><th scope=col>p[GG]&lt;.05</th><th scope=col>HFe</th><th scope=col>p[HF]</th><th scope=col>p[HF]&lt;.05</th></tr></thead>\n",
       "<tbody>\n",
       "\t<tr><th scope=row>3</th><td>SpeedCondition       </td><td>0.6052612            </td><td>0.6936278            </td><td>                     </td><td>0.7301226            </td><td>0.7297232            </td><td>                     </td></tr>\n",
       "\t<tr><th scope=row>4</th><td>IsBump:SpeedCondition</td><td>0.7555430            </td><td>0.4423059            </td><td>                     </td><td>0.9675117            </td><td>0.4595023            </td><td>                     </td></tr>\n",
       "</tbody>\n",
       "</table>\n",
       "</dd>\n",
       "</dl>\n"
      ],
      "text/latex": [
       "\\begin{description}\n",
       "\\item[\\$ANOVA] \\begin{tabular}{r|lllllll}\n",
       "  & Effect & DFn & DFd & F & p & p<.05 & ges\\\\\n",
       "\\hline\n",
       "\t2 & IsBump                & 1                     & 15                    & 1.6789680             & 0.2146467             &                       & 0.003452240          \\\\\n",
       "\t3 & SpeedCondition        & 4                     & 60                    & 0.4266470             & 0.7888059             &                       & 0.003890741          \\\\\n",
       "\t4 & IsBump:SpeedCondition & 4                     & 60                    & 0.9139983             & 0.4617506             &                       & 0.001264484          \\\\\n",
       "\\end{tabular}\n",
       "\n",
       "\\item[\\$`Mauchly's Test for Sphericity`] \\begin{tabular}{r|llll}\n",
       "  & Effect & W & p & p<.05\\\\\n",
       "\\hline\n",
       "\t3 & SpeedCondition        & 0.2005182             & 0.01096836            & *                    \\\\\n",
       "\t4 & IsBump:SpeedCondition & 0.4475639             & 0.29440946            &                      \\\\\n",
       "\\end{tabular}\n",
       "\n",
       "\\item[\\$`Sphericity Corrections`] \\begin{tabular}{r|lllllll}\n",
       "  & Effect & GGe & p{[}GG{]} & p{[}GG{]}<.05 & HFe & p{[}HF{]} & p{[}HF{]}<.05\\\\\n",
       "\\hline\n",
       "\t3 & SpeedCondition        & 0.6052612             & 0.6936278             &                       & 0.7301226             & 0.7297232             &                      \\\\\n",
       "\t4 & IsBump:SpeedCondition & 0.7555430             & 0.4423059             &                       & 0.9675117             & 0.4595023             &                      \\\\\n",
       "\\end{tabular}\n",
       "\n",
       "\\end{description}\n"
      ],
      "text/markdown": [
       "$ANOVA\n",
       ":   \n",
       "| <!--/--> | Effect | DFn | DFd | F | p | p<.05 | ges | \n",
       "|---|---|---|\n",
       "| 2 | IsBump                | 1                     | 15                    | 1.6789680             | 0.2146467             |                       | 0.003452240           | \n",
       "| 3 | SpeedCondition        | 4                     | 60                    | 0.4266470             | 0.7888059             |                       | 0.003890741           | \n",
       "| 4 | IsBump:SpeedCondition | 4                     | 60                    | 0.9139983             | 0.4617506             |                       | 0.001264484           | \n",
       "\n",
       "\n",
       "\n",
       "$`Mauchly's Test for Sphericity`\n",
       ":   \n",
       "| <!--/--> | Effect | W | p | p<.05 | \n",
       "|---|---|\n",
       "| 3 | SpeedCondition        | 0.2005182             | 0.01096836            | *                     | \n",
       "| 4 | IsBump:SpeedCondition | 0.4475639             | 0.29440946            |                       | \n",
       "\n",
       "\n",
       "\n",
       "$`Sphericity Corrections`\n",
       ":   \n",
       "| <!--/--> | Effect | GGe | p[GG] | p[GG]<.05 | HFe | p[HF] | p[HF]<.05 | \n",
       "|---|---|\n",
       "| 3 | SpeedCondition        | 0.6052612             | 0.6936278             |                       | 0.7301226             | 0.7297232             |                       | \n",
       "| 4 | IsBump:SpeedCondition | 0.7555430             | 0.4423059             |                       | 0.9675117             | 0.4595023             |                       | \n",
       "\n",
       "\n",
       "\n",
       "\n",
       "\n"
      ],
      "text/plain": [
       "$ANOVA\n",
       "                 Effect DFn DFd         F         p p<.05         ges\n",
       "2                IsBump   1  15 1.6789680 0.2146467       0.003452240\n",
       "3        SpeedCondition   4  60 0.4266470 0.7888059       0.003890741\n",
       "4 IsBump:SpeedCondition   4  60 0.9139983 0.4617506       0.001264484\n",
       "\n",
       "$`Mauchly's Test for Sphericity`\n",
       "                 Effect         W          p p<.05\n",
       "3        SpeedCondition 0.2005182 0.01096836     *\n",
       "4 IsBump:SpeedCondition 0.4475639 0.29440946      \n",
       "\n",
       "$`Sphericity Corrections`\n",
       "                 Effect       GGe     p[GG] p[GG]<.05       HFe     p[HF]\n",
       "3        SpeedCondition 0.6052612 0.6936278           0.7301226 0.7297232\n",
       "4 IsBump:SpeedCondition 0.7555430 0.4423059           0.9675117 0.4595023\n",
       "  p[HF]<.05\n",
       "3          \n",
       "4          \n"
      ]
     },
     "metadata": {},
     "output_type": "display_data"
    }
   ],
   "source": [
    "df = read.csv(\"./data/R_TCT.csv\")\n",
    "df = aggregate(TCT ~ PId * IsBump * SpeedCondition, mean, data = df)\n",
    "df$PId <- factor(df$PId)\n",
    "df$IsBump <- factor(df$IsBump)\n",
    "df$SpeedCondition <- factor(df$SpeedCondition)\n",
    "mod = ezANOVA (data = df,\n",
    "        dv = TCT,\n",
    "        within = c(IsBump, SpeedCondition),\n",
    "        wid = PId,\n",
    "        type = 3)\n",
    "mod"
   ]
  },
  {
   "cell_type": "code",
   "execution_count": 3,
   "metadata": {},
   "outputs": [
    {
     "data": {
      "text/html": [
       "<ol class=list-inline>\n",
       "\t<li>2.42104480254392</li>\n",
       "\t<li>3.02217219673387</li>\n",
       "</ol>\n"
      ],
      "text/latex": [
       "\\begin{enumerate*}\n",
       "\\item 2.42104480254392\n",
       "\\item 3.02217219673387\n",
       "\\end{enumerate*}\n"
      ],
      "text/markdown": [
       "1. 2.42104480254392\n",
       "2. 3.02217219673387\n",
       "\n",
       "\n"
      ],
      "text/plain": [
       "[1] 2.421045 3.022172"
      ]
     },
     "metadata": {},
     "output_type": "display_data"
    },
    {
     "data": {
      "text/html": [
       "<ol class=list-inline>\n",
       "\t<li>36.3156720381587</li>\n",
       "\t<li>45.332582951008</li>\n",
       "</ol>\n"
      ],
      "text/latex": [
       "\\begin{enumerate*}\n",
       "\\item 36.3156720381587\n",
       "\\item 45.332582951008\n",
       "\\end{enumerate*}\n"
      ],
      "text/markdown": [
       "1. 36.3156720381587\n",
       "2. 45.332582951008\n",
       "\n",
       "\n"
      ],
      "text/plain": [
       "[1] 36.31567 45.33258"
      ]
     },
     "metadata": {},
     "output_type": "display_data"
    }
   ],
   "source": [
    "mod$\"Sphericity Corrections\"$GGe  * c(4,4)\n",
    "mod$\"Sphericity Corrections\"$GGe  * c(60,60)"
   ]
  },
  {
   "cell_type": "code",
   "execution_count": null,
   "metadata": {},
   "outputs": [],
   "source": []
  }
 ],
 "metadata": {
  "kernelspec": {
   "display_name": "R",
   "language": "R",
   "name": "ir"
  },
  "language_info": {
   "codemirror_mode": "r",
   "file_extension": ".r",
   "mimetype": "text/x-r-source",
   "name": "R",
   "pygments_lexer": "r",
   "version": "3.4.4"
  }
 },
 "nbformat": 4,
 "nbformat_minor": 2
}
