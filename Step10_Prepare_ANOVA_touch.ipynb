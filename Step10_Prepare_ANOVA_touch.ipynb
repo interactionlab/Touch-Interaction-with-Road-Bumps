{
 "cells": [
  {
   "cell_type": "code",
   "execution_count": 1,
   "metadata": {},
   "outputs": [],
   "source": [
    "DATA_PATH = \"./data/\"\n",
    "OUTPUT_PATH = \"./out/\""
   ]
  },
  {
   "cell_type": "code",
   "execution_count": 2,
   "metadata": {},
   "outputs": [],
   "source": [
    "%matplotlib inline\n",
    "import matplotlib.pyplot as plt\n",
    "import pandas as pd\n",
    "\n",
    "colorDic = {\"blue\" : \"#6599FF\", \"yellow\" : \"#FFAD33\",  \"purple\": \"#683b96\", \"green\" : \"#198D6D\", \"red\" : \"#FF523F\"}\n",
    "colors = list(colorDic.values())"
   ]
  },
  {
   "cell_type": "code",
   "execution_count": 3,
   "metadata": {},
   "outputs": [],
   "source": [
    "dfStim = pd.read_pickle(DATA_PATH  + \"data_02_stim.pkl\")"
   ]
  },
  {
   "cell_type": "code",
   "execution_count": 4,
   "metadata": {},
   "outputs": [
    {
     "name": "stdout",
     "output_type": "stream",
     "text": [
      "./data/R_Count_Down.csv\n"
     ]
    },
    {
     "data": {
      "text/html": [
       "<div>\n",
       "<style scoped>\n",
       "    .dataframe tbody tr th:only-of-type {\n",
       "        vertical-align: middle;\n",
       "    }\n",
       "\n",
       "    .dataframe tbody tr th {\n",
       "        vertical-align: top;\n",
       "    }\n",
       "\n",
       "    .dataframe thead th {\n",
       "        text-align: right;\n",
       "    }\n",
       "</style>\n",
       "<table border=\"1\" class=\"dataframe\">\n",
       "  <thead>\n",
       "    <tr style=\"text-align: right;\">\n",
       "      <th></th>\n",
       "      <th>count</th>\n",
       "      <th>mean</th>\n",
       "      <th>std</th>\n",
       "      <th>min</th>\n",
       "      <th>25%</th>\n",
       "      <th>50%</th>\n",
       "      <th>75%</th>\n",
       "      <th>max</th>\n",
       "    </tr>\n",
       "    <tr>\n",
       "      <th>IsBumpVirtual</th>\n",
       "      <th></th>\n",
       "      <th></th>\n",
       "      <th></th>\n",
       "      <th></th>\n",
       "      <th></th>\n",
       "      <th></th>\n",
       "      <th></th>\n",
       "      <th></th>\n",
       "    </tr>\n",
       "  </thead>\n",
       "  <tbody>\n",
       "    <tr>\n",
       "      <th>0.0</th>\n",
       "      <td>80.0</td>\n",
       "      <td>1.012</td>\n",
       "      <td>0.043</td>\n",
       "      <td>1.0</td>\n",
       "      <td>1.0</td>\n",
       "      <td>1.000</td>\n",
       "      <td>1.012</td>\n",
       "      <td>1.370</td>\n",
       "    </tr>\n",
       "    <tr>\n",
       "      <th>1.0</th>\n",
       "      <td>80.0</td>\n",
       "      <td>1.028</td>\n",
       "      <td>0.045</td>\n",
       "      <td>1.0</td>\n",
       "      <td>1.0</td>\n",
       "      <td>1.017</td>\n",
       "      <td>1.033</td>\n",
       "      <td>1.289</td>\n",
       "    </tr>\n",
       "  </tbody>\n",
       "</table>\n",
       "</div>"
      ],
      "text/plain": [
       "               count   mean    std  min  25%    50%    75%    max\n",
       "IsBumpVirtual                                                    \n",
       "0.0             80.0  1.012  0.043  1.0  1.0  1.000  1.012  1.370\n",
       "1.0             80.0  1.028  0.045  1.0  1.0  1.017  1.033  1.289"
      ]
     },
     "execution_count": 4,
     "metadata": {},
     "output_type": "execute_result"
    }
   ],
   "source": [
    "dfDown = dfStim[dfStim.TouchType == 0]\n",
    "dfCount = dfDown.groupby([\"PId\", \"TouchId\", \"SpeedCondition\", \"IsBumpVirtual\", \"TouchType\"]).count().TimeOfBump.reset_index().groupby([\"PId\", \"IsBumpVirtual\", \"SpeedCondition\"]).mean().reset_index()\n",
    "dfCount = dfCount.rename(columns={\"TimeOfBump\":\"Count\"})\n",
    "#dfCount.loc[dfCount.IsBumpVirtual == 0.0, \"SpeedCondition\"] = 1\n",
    "path = DATA_PATH + \"R_Count_Down.csv\"\n",
    "print(path)\n",
    "dfCount.to_csv(path, index=None)\n",
    "dfCount.groupby(\"IsBumpVirtual\")[\"Count\"].describe().round(3)"
   ]
  },
  {
   "cell_type": "code",
   "execution_count": 5,
   "metadata": {},
   "outputs": [
    {
     "name": "stdout",
     "output_type": "stream",
     "text": [
      "./data/R_Count_Move.csv\n"
     ]
    },
    {
     "data": {
      "text/html": [
       "<div>\n",
       "<style scoped>\n",
       "    .dataframe tbody tr th:only-of-type {\n",
       "        vertical-align: middle;\n",
       "    }\n",
       "\n",
       "    .dataframe tbody tr th {\n",
       "        vertical-align: top;\n",
       "    }\n",
       "\n",
       "    .dataframe thead th {\n",
       "        text-align: right;\n",
       "    }\n",
       "</style>\n",
       "<table border=\"1\" class=\"dataframe\">\n",
       "  <thead>\n",
       "    <tr style=\"text-align: right;\">\n",
       "      <th></th>\n",
       "      <th>count</th>\n",
       "      <th>mean</th>\n",
       "      <th>std</th>\n",
       "      <th>min</th>\n",
       "      <th>25%</th>\n",
       "      <th>50%</th>\n",
       "      <th>75%</th>\n",
       "      <th>max</th>\n",
       "    </tr>\n",
       "    <tr>\n",
       "      <th>IsBumpVirtual</th>\n",
       "      <th></th>\n",
       "      <th></th>\n",
       "      <th></th>\n",
       "      <th></th>\n",
       "      <th></th>\n",
       "      <th></th>\n",
       "      <th></th>\n",
       "      <th></th>\n",
       "    </tr>\n",
       "  </thead>\n",
       "  <tbody>\n",
       "    <tr>\n",
       "      <th>0.0</th>\n",
       "      <td>80.0</td>\n",
       "      <td>5.575</td>\n",
       "      <td>2.532</td>\n",
       "      <td>3.000</td>\n",
       "      <td>4.187</td>\n",
       "      <td>4.679</td>\n",
       "      <td>5.687</td>\n",
       "      <td>14.986</td>\n",
       "    </tr>\n",
       "    <tr>\n",
       "      <th>1.0</th>\n",
       "      <td>80.0</td>\n",
       "      <td>6.161</td>\n",
       "      <td>3.120</td>\n",
       "      <td>3.197</td>\n",
       "      <td>4.450</td>\n",
       "      <td>4.965</td>\n",
       "      <td>5.826</td>\n",
       "      <td>15.053</td>\n",
       "    </tr>\n",
       "  </tbody>\n",
       "</table>\n",
       "</div>"
      ],
      "text/plain": [
       "               count   mean    std    min    25%    50%    75%     max\n",
       "IsBumpVirtual                                                         \n",
       "0.0             80.0  5.575  2.532  3.000  4.187  4.679  5.687  14.986\n",
       "1.0             80.0  6.161  3.120  3.197  4.450  4.965  5.826  15.053"
      ]
     },
     "execution_count": 5,
     "metadata": {},
     "output_type": "execute_result"
    }
   ],
   "source": [
    "dfMove = dfStim[dfStim.TouchType == 1]\n",
    "dfCount = dfMove.groupby([\"PId\", \"TouchId\", \"SpeedCondition\", \"IsBumpVirtual\", \"TouchType\"]).count()[\"TimeOfBump\"].reset_index().groupby([\"PId\", \"IsBumpVirtual\", \"SpeedCondition\"]).mean().reset_index()\n",
    "dfCount = dfCount.rename(columns={\"TimeOfBump\":\"Count\"})\n",
    "path = DATA_PATH + \"R_Count_Move.csv\"\n",
    "print(path)\n",
    "dfCount.to_csv(path, index=None)\n",
    "dfCount.groupby(\"IsBumpVirtual\")[\"Count\"].describe().round(3)"
   ]
  },
  {
   "cell_type": "code",
   "execution_count": 6,
   "metadata": {},
   "outputs": [
    {
     "name": "stdout",
     "output_type": "stream",
     "text": [
      "./data/R_Offset.csv\n"
     ]
    },
    {
     "data": {
      "text/html": [
       "<div>\n",
       "<style scoped>\n",
       "    .dataframe tbody tr th:only-of-type {\n",
       "        vertical-align: middle;\n",
       "    }\n",
       "\n",
       "    .dataframe tbody tr th {\n",
       "        vertical-align: top;\n",
       "    }\n",
       "\n",
       "    .dataframe thead th {\n",
       "        text-align: right;\n",
       "    }\n",
       "</style>\n",
       "<table border=\"1\" class=\"dataframe\">\n",
       "  <thead>\n",
       "    <tr style=\"text-align: right;\">\n",
       "      <th></th>\n",
       "      <th>count</th>\n",
       "      <th>mean</th>\n",
       "      <th>std</th>\n",
       "      <th>min</th>\n",
       "      <th>25%</th>\n",
       "      <th>50%</th>\n",
       "      <th>75%</th>\n",
       "      <th>max</th>\n",
       "    </tr>\n",
       "    <tr>\n",
       "      <th>IsBumpVirtual</th>\n",
       "      <th></th>\n",
       "      <th></th>\n",
       "      <th></th>\n",
       "      <th></th>\n",
       "      <th></th>\n",
       "      <th></th>\n",
       "      <th></th>\n",
       "      <th></th>\n",
       "    </tr>\n",
       "  </thead>\n",
       "  <tbody>\n",
       "    <tr>\n",
       "      <th>0.0</th>\n",
       "      <td>80.0</td>\n",
       "      <td>41.8</td>\n",
       "      <td>15.7</td>\n",
       "      <td>14.6</td>\n",
       "      <td>30.3</td>\n",
       "      <td>39.2</td>\n",
       "      <td>53.8</td>\n",
       "      <td>75.5</td>\n",
       "    </tr>\n",
       "    <tr>\n",
       "      <th>1.0</th>\n",
       "      <td>80.0</td>\n",
       "      <td>51.9</td>\n",
       "      <td>17.9</td>\n",
       "      <td>16.1</td>\n",
       "      <td>38.6</td>\n",
       "      <td>52.4</td>\n",
       "      <td>65.3</td>\n",
       "      <td>89.1</td>\n",
       "    </tr>\n",
       "  </tbody>\n",
       "</table>\n",
       "</div>"
      ],
      "text/plain": [
       "               count  mean   std   min   25%   50%   75%   max\n",
       "IsBumpVirtual                                                 \n",
       "0.0             80.0  41.8  15.7  14.6  30.3  39.2  53.8  75.5\n",
       "1.0             80.0  51.9  17.9  16.1  38.6  52.4  65.3  89.1"
      ]
     },
     "execution_count": 6,
     "metadata": {},
     "output_type": "execute_result"
    }
   ],
   "source": [
    "TouchEventId = dfStim[dfStim.TouchType == 2].groupby([\"TouchId\"])[\"TouchEventId\"].max().values\n",
    "\n",
    "dfOffset = dfStim[(dfStim.TouchType == 2) & (dfStim.TouchEventId.isin(TouchEventId))].groupby([\"PId\", \"SpeedCondition\", \"IsBumpVirtual\",\"TouchId\"])[\"TouchOffset\"].min().reset_index()\n",
    "dfOffset = dfOffset.groupby([\"PId\", \"IsBumpVirtual\", \"SpeedCondition\"]).mean().reset_index()\n",
    "path = DATA_PATH + \"R_Offset.csv\"\n",
    "print(path)\n",
    "dfOffset.to_csv(path, index=None)\n",
    "dfOffset.groupby(\"IsBumpVirtual\")[\"TouchOffset\"].describe().round(1)"
   ]
  }
 ],
 "metadata": {
  "kernelspec": {
   "display_name": "Python 3",
   "language": "python",
   "name": "python3"
  },
  "language_info": {
   "codemirror_mode": {
    "name": "ipython",
    "version": 3
   },
   "file_extension": ".py",
   "mimetype": "text/x-python",
   "name": "python",
   "nbconvert_exporter": "python",
   "pygments_lexer": "ipython3",
   "version": "3.6.5"
  }
 },
 "nbformat": 4,
 "nbformat_minor": 2
}
