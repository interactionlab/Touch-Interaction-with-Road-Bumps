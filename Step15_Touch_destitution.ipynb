{
 "cells": [
  {
   "cell_type": "code",
   "execution_count": 1,
   "metadata": {},
   "outputs": [],
   "source": [
    "DATA_PATH = \"./data/\"\n",
    "OUTPUT_PATH = \"./out/\""
   ]
  },
  {
   "cell_type": "code",
   "execution_count": 2,
   "metadata": {},
   "outputs": [],
   "source": [
    "import pandas as pd\n",
    "%matplotlib inline\n",
    "import matplotlib.pyplot as plt\n",
    "import matplotlib.patches as patches\n",
    "from matplotlib.patches import Ellipse\n",
    "import numpy as np\n",
    "import sklearn.ensemble \n",
    "\n",
    "from sklearn.externals import joblib\n",
    "\n",
    "colorDic = {\"blue\" : \"#6599FF\", \"yellow\" : \"#FFAD33\",  \"purple\": \"#683b96\", \"green\" : \"#198D6D\", \"red\" : \"#FF523F\"}\n",
    "colors = list(colorDic.values())\n",
    "\n",
    "pxToMm= 0.19"
   ]
  },
  {
   "cell_type": "code",
   "execution_count": 3,
   "metadata": {},
   "outputs": [],
   "source": [
    "dfStim = pd.read_pickle(DATA_PATH  + \"data_03_stim.pkl\")"
   ]
  },
  {
   "cell_type": "code",
   "execution_count": 4,
   "metadata": {},
   "outputs": [
    {
     "data": {
      "text/plain": [
       "count    8975.000000\n",
       "mean       46.565642\n",
       "std        32.146447\n",
       "min         0.000000\n",
       "25%        22.658822\n",
       "50%        38.964157\n",
       "75%        62.118346\n",
       "max       180.249827\n",
       "Name: TouchOffset, dtype: float64"
      ]
     },
     "execution_count": 4,
     "metadata": {},
     "output_type": "execute_result"
    }
   ],
   "source": [
    "dfStim[\"RelativeTimePeak\"] = dfStim.TimeRelativ -dfStim.TimePeak\n",
    "TouchEventId = dfStim.groupby([\"TouchId\"])[\"TouchEventId\"].max().values\n",
    "dfStim = dfStim[dfStim.TouchEventId.isin(TouchEventId)]\n",
    "dfStim.TouchOffset.describe()"
   ]
  },
  {
   "cell_type": "code",
   "execution_count": 5,
   "metadata": {},
   "outputs": [
    {
     "data": {
      "text/plain": [
       "[95.0, 731.5, 1368.0, 2004.5, 2641.0]"
      ]
     },
     "execution_count": 5,
     "metadata": {},
     "output_type": "execute_result"
    }
   ],
   "source": [
    "sorted(dfStim.VisualStimuliPositionY.unique())"
   ]
  },
  {
   "cell_type": "code",
   "execution_count": 6,
   "metadata": {},
   "outputs": [
    {
     "name": "stdout",
     "output_type": "stream",
     "text": [
      "36.10000000000009 34.20000000000006 1234.6200000000051\n",
      "CPU times: user 14.1 s, sys: 11.6 ms, total: 14.1 s\n",
      "Wall time: 14.1 s\n"
     ]
    }
   ],
   "source": [
    "%%time\n",
    "dfX = dfStim[dfStim.IsBumpVirtual == 1].copy()\n",
    "#dfX = dfStim.copy()\n",
    "\n",
    "dfX[\"TouchXReal\"] = (dfX.TouchX-dfX.VisualStimuliPositionX)*pxToMm\n",
    "dfX[\"TouchYReal\"] = (dfX.TouchY-dfX.VisualStimuliPositionY)*pxToMm\n",
    "lendf = len(dfX)\n",
    "area = np.infty\n",
    "x2 = -1\n",
    "y2 = -1\n",
    "c = 0\n",
    "for x1 in np.arange(30,40,.1):\n",
    "    for y1 in np.arange(30,40,.1):\n",
    "        if ((x1*y1) < area):\n",
    "            c=c+1\n",
    "            xx= dfX[((dfX.TouchXReal > (-x1)/2.0) & (dfX.TouchXReal < (x1)/2.0) & (dfX.TouchXReal > (-y1)/2.0) & (dfX.TouchYReal < (y1)/2.0))]\n",
    "            value = len(xx) / lendf\n",
    "\n",
    "            if (value > 0.95):\n",
    "                x2 = x1\n",
    "                y2 = y1\n",
    "                area = x1*y1 \n",
    "print(x2, y2, area)   "
   ]
  },
  {
   "cell_type": "code",
   "execution_count": 7,
   "metadata": {},
   "outputs": [
    {
     "name": "stdout",
     "output_type": "stream",
     "text": [
      "Participants in the validation data set [1 3 5]\n",
      "Participants in the       test data set [6 7 8]\n",
      "Participants in the      train data set [ 9 10 11 12 13 14 15 16 17 18]\n"
     ]
    }
   ],
   "source": [
    "split = (65, 22, 22)\n",
    "ps = np.array(sorted(dfStim.PId.unique()))\n",
    "num_pt = len(ps)\n",
    "x1 = (int)(np.floor(len(ps) * split[1] / 100.0))\n",
    "x2 = (int)(np.floor(len(ps) * split[2] / 100.0))\n",
    "split_train = ps[x2+x1:]\n",
    "split_test = ps[x1:x1+x2]\n",
    "split_validation = ps[:x2]\n",
    "\n",
    "dfTrain = dfStim[dfStim.PId.isin(split_train) & (dfStim.VisualStimuliPositionX != sorted(dfStim.VisualStimuliPositionX.unique())[2])& (dfStim.VisualStimuliPositionY != sorted(dfStim.VisualStimuliPositionY.unique())[2])]\n",
    "dfTest = dfStim[dfStim.PId.isin(split_test)]\n",
    "dfValidation = dfStim[dfStim.PId.isin(split_validation)]\n",
    "print(\"Participants in the validation data set %s\" % split_validation)\n",
    "print(\"Participants in the       test data set %s\" % split_test)\n",
    "print(\"Participants in the      train data set %s\" % split_train)"
   ]
  },
  {
   "cell_type": "code",
   "execution_count": 8,
   "metadata": {},
   "outputs": [],
   "source": [
    "modelX = joblib.load('%s/Model_RF_%s.pkl' % (OUTPUT_PATH, \"X\"))\n",
    "modelY = joblib.load('%s/Model_RF_%s.pkl' % (OUTPUT_PATH, \"Y\"))"
   ]
  },
  {
   "cell_type": "code",
   "execution_count": 9,
   "metadata": {},
   "outputs": [],
   "source": [
    "dfStim[\"TouchOffsetXPred\"] = modelX.predict(dfStim[[\"SpeedCondition\", \"TouchX\", \"TouchY\", 'Acc', 'RelativeTimePeak', \"PeakValue\"]].values)\n",
    "dfStim[\"TouchOffsetYPred\"] = modelY.predict(dfStim[[\"SpeedCondition\", \"TouchX\", \"TouchY\", 'Acc', 'RelativeTimePeak', \"PeakValue\"]].values)"
   ]
  },
  {
   "cell_type": "code",
   "execution_count": 10,
   "metadata": {},
   "outputs": [
    {
     "name": "stdout",
     "output_type": "stream",
     "text": [
      "Participants in the validation data set [1 3 5]\n",
      "Participants in the       test data set [6 7 8]\n",
      "Participants in the      train data set [ 9 10 11 12 13 14 15 16 17 18]\n"
     ]
    }
   ],
   "source": [
    "split = (65, 22, 22)\n",
    "ps = np.array(sorted(dfStim.PId.unique()))\n",
    "num_pt = len(ps)\n",
    "x1 = (int)(np.floor(len(ps) * split[1] / 100.0))\n",
    "x2 = (int)(np.floor(len(ps) * split[2] / 100.0))\n",
    "split_train = ps[x2+x1:]\n",
    "split_test = ps[x1:x1+x2]\n",
    "split_validation = ps[:x2]\n",
    "\n",
    "dfTrain = dfStim[dfStim.PId.isin(split_train) & (dfStim.VisualStimuliPositionX != sorted(dfStim.VisualStimuliPositionX.unique())[2])& (dfStim.VisualStimuliPositionY != sorted(dfStim.VisualStimuliPositionY.unique())[2])]\n",
    "dfTest = dfStim[dfStim.PId.isin(split_test)]\n",
    "dfValidation = dfStim[dfStim.PId.isin(split_validation)]\n",
    "print(\"Participants in the validation data set %s\" % split_validation)\n",
    "print(\"Participants in the       test data set %s\" % split_test)\n",
    "print(\"Participants in the      train data set %s\" % split_train)\n"
   ]
  },
  {
   "cell_type": "code",
   "execution_count": 11,
   "metadata": {},
   "outputs": [
    {
     "name": "stdout",
     "output_type": "stream",
     "text": [
      "22.91399999999992\n",
      "25.177435897435863\n",
      "17.64466666666675\n",
      "18.489679487179494\n"
     ]
    },
    {
     "data": {
      "image/png": "[encoded data removed]",
      "text/plain": [
       "<Figure size 432x288 with 1 Axes>"
      ]
     },
     "metadata": {},
     "output_type": "display_data"
    }
   ],
   "source": [
    "fig, ax = plt.subplots(figsize=(6,4))\n",
    "colors2 = [colorDic[\"red\"],colorDic[\"blue\"]]\n",
    "for b in range(2):\n",
    "    dfX = dfValidation[(dfValidation.IsBumpVirtual == 1)]\n",
    "    if (b == 1):\n",
    "        label = \"With Correction\"\n",
    "        x = (dfX.TouchX-dfX.VisualStimuliPositionX-dfX[\"TouchOffsetXPred\"] )*pxToMm\n",
    "        y = (dfX.TouchY-dfX.VisualStimuliPositionY-dfX[\"TouchOffsetYPred\"] )*pxToMm\n",
    "    else:\n",
    "        label = \"No Correction\"\n",
    "        x = (dfX.TouchX-dfX.VisualStimuliPositionX)*pxToMm\n",
    "        y = (dfX.TouchY-dfX.VisualStimuliPositionY)*pxToMm\n",
    "        \n",
    "    plt.scatter(x, y, marker=\"+\", color=colors2[b], label=label, alpha=0.5)\n",
    "            \n",
    "plt.xlabel(\"Width (mm)\")\n",
    "plt.ylabel(\"Hieght (mm)\")\n",
    "plt.scatter(0,0, marker=\"x\", color=\"k\", label=\"Target\")\n",
    "\n",
    "x = (dfX.TouchX-dfX.VisualStimuliPositionX)*pxToMm\n",
    "y = (dfX.TouchY-dfX.VisualStimuliPositionY)*pxToMm\n",
    "df5 = dfX.copy()\n",
    "df5[\"OffsetCorrected\"] = np.sqrt(x*x+y*y)\n",
    "df5 = df5[df5.OffsetCorrected < np.max(sorted(np.sqrt(x*x+y*y))[:int(np.round(len(dfX)*0.95))])]\n",
    "x = (df5.TouchX-df5.VisualStimuliPositionX-df5[\"TouchOffsetXPred\"] )*pxToMm\n",
    "y = (df5.TouchY-df5.VisualStimuliPositionY-df5[\"TouchOffsetYPred\"] )*pxToMm\n",
    "\n",
    "print(x.abs().max())\n",
    "print(y.abs().max())\n",
    "ax.add_artist(Ellipse(xy=(0,0), width=x.abs().max(), height=y.abs().max(), fill=None, color=colors2[0], lw=3))\n",
    "\n",
    "x = (dfX.TouchX-dfX.VisualStimuliPositionX-dfX[\"TouchOffsetXPred\"] )*pxToMm\n",
    "y = (dfX.TouchY-dfX.VisualStimuliPositionY-dfX[\"TouchOffsetYPred\"] )*pxToMm\n",
    "dfX = dfX.copy()\n",
    "dfX[\"OffsetCorrected\"] = np.sqrt(x*x+y*y)\n",
    "df6 = dfX[dfX.OffsetCorrected < np.max(sorted(np.sqrt(x*x+y*y))[:int(np.round(len(dfX)*0.95))])]\n",
    "x = (df6.TouchX-df6.VisualStimuliPositionX-df6[\"TouchOffsetXPred\"] )*pxToMm\n",
    "y = (df6.TouchY-df6.VisualStimuliPositionY-df6[\"TouchOffsetYPred\"] )*pxToMm\n",
    "ax.add_artist(Ellipse(xy=(0,0), width=x.abs().max(), height=y.abs().max(), fill=None, color=colors2[1], lw=3))\n",
    "print(x.abs().max())\n",
    "print(y.abs().max())\n",
    "\n",
    "ax.set_aspect('equal', 'datalim')\n",
    "plt.legend(loc=2)\n",
    "plt.savefig(OUTPUT_PATH + \"corrected.pdf\", bbox_inches='tight', pad_inches=0, tranparent = False)"
   ]
  },
  {
   "cell_type": "code",
   "execution_count": null,
   "metadata": {},
   "outputs": [],
   "source": []
  }
 ],
 "metadata": {
  "kernelspec": {
   "display_name": "Python 3",
   "language": "python",
   "name": "python3"
  },
  "language_info": {
   "codemirror_mode": {
    "name": "ipython",
    "version": 3
   },
   "file_extension": ".py",
   "mimetype": "text/x-python",
   "name": "python",
   "nbconvert_exporter": "python",
   "pygments_lexer": "ipython3",
   "version": "3.6.5"
  }
 },
 "nbformat": 4,
 "nbformat_minor": 2
}
