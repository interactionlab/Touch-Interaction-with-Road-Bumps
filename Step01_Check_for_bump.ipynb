{
 "cells": [
  {
   "cell_type": "code",
   "execution_count": 1,
   "metadata": {},
   "outputs": [],
   "source": [
    "DATA_PATH = \"./data/\"\n",
    "OUTPUT_PATH = \"./out/\""
   ]
  },
  {
   "cell_type": "code",
   "execution_count": 2,
   "metadata": {},
   "outputs": [],
   "source": [
    "import pandas as pd\n",
    "%matplotlib inline\n",
    "import matplotlib.pyplot as plt\n",
    "import numpy as np\n",
    "\n",
    "colorDic = {\"blue\" : \"#6599FF\", \"yellow\" : \"#FFAD33\",  \"purple\": \"#683b96\", \"green\" : \"#198D6D\", \"red\" : \"#FF523F\"}\n",
    "colors = list(colorDic.values())"
   ]
  },
  {
   "cell_type": "code",
   "execution_count": 8,
   "metadata": {},
   "outputs": [],
   "source": [
    "dfStim = pd.read_pickle(DATA_PATH  + \"data_01_stim.pkl\")\n",
    "\n",
    "lst = dfStim.VisualStimuliPosition.unique()\n",
    "dfStim[\"VisualStimuliId\"] = -1\n",
    "for i in range(len(lst)):\n",
    "    dfStim.loc[dfStim.VisualStimuliPosition == lst[i], \"VisualStimuliId\"] = i\n",
    "\n",
    "dfStim.VisualStimuliPositionX = 1.9 * dfStim.VisualStimuliPositionX\n",
    "dfStim.VisualStimuliPositionY = 1.9 * dfStim.VisualStimuliPositionY\n",
    "dfStim.TouchX = 1.9 * dfStim.TouchX\n",
    "dfStim.TouchY = 1.9 * dfStim.TouchY\n",
    "\n",
    "dfStim[\"TouchOffset\"] = np.sqrt(((dfStim.TouchX - dfStim.VisualStimuliPositionX).pow(2) + (dfStim.TouchY - dfStim.VisualStimuliPositionY).pow(2)))\n",
    "\n",
    "dfAcc = pd.read_pickle(DATA_PATH  + \"data_01_acc.pkl\")\n",
    "timeMins = [897, 1021, 1186, 909, 1092]\n",
    "timeMaxs = [3232, 2818, 2744, 2341, 2483] #[2737, 2325, 2262, 1822, 1950]"
   ]
  },
  {
   "cell_type": "code",
   "execution_count": null,
   "metadata": {},
   "outputs": [],
   "source": []
  },
  {
   "cell_type": "code",
   "execution_count": null,
   "metadata": {},
   "outputs": [],
   "source": []
  },
  {
   "cell_type": "code",
   "execution_count": 9,
   "metadata": {},
   "outputs": [
    {
     "data": {
      "text/plain": [
       "1    55569\n",
       "2     9712\n",
       "0     9712\n",
       "Name: TouchType, dtype: int64"
      ]
     },
     "execution_count": 9,
     "metadata": {},
     "output_type": "execute_result"
    }
   ],
   "source": [
    "dfStim.TouchType.value_counts()"
   ]
  },
  {
   "cell_type": "code",
   "execution_count": 10,
   "metadata": {},
   "outputs": [
    {
     "name": "stdout",
     "output_type": "stream",
     "text": [
      "./data/R_TCT.csv\n"
     ]
    },
    {
     "data": {
      "text/html": [
       "<div>\n",
       "<style scoped>\n",
       "    .dataframe tbody tr th:only-of-type {\n",
       "        vertical-align: middle;\n",
       "    }\n",
       "\n",
       "    .dataframe tbody tr th {\n",
       "        vertical-align: top;\n",
       "    }\n",
       "\n",
       "    .dataframe thead th {\n",
       "        text-align: right;\n",
       "    }\n",
       "</style>\n",
       "<table border=\"1\" class=\"dataframe\">\n",
       "  <thead>\n",
       "    <tr style=\"text-align: right;\">\n",
       "      <th></th>\n",
       "      <th>count</th>\n",
       "      <th>mean</th>\n",
       "      <th>std</th>\n",
       "      <th>min</th>\n",
       "      <th>25%</th>\n",
       "      <th>50%</th>\n",
       "      <th>75%</th>\n",
       "      <th>max</th>\n",
       "    </tr>\n",
       "    <tr>\n",
       "      <th>IsBump</th>\n",
       "      <th></th>\n",
       "      <th></th>\n",
       "      <th></th>\n",
       "      <th></th>\n",
       "      <th></th>\n",
       "      <th></th>\n",
       "      <th></th>\n",
       "      <th></th>\n",
       "    </tr>\n",
       "  </thead>\n",
       "  <tbody>\n",
       "    <tr>\n",
       "      <th>0.0</th>\n",
       "      <td>2.084</td>\n",
       "      <td>1.286838</td>\n",
       "      <td>0.503821</td>\n",
       "      <td>0.5475</td>\n",
       "      <td>1.007000</td>\n",
       "      <td>1.152417</td>\n",
       "      <td>1.381000</td>\n",
       "      <td>6.066</td>\n",
       "    </tr>\n",
       "    <tr>\n",
       "      <th>1.0</th>\n",
       "      <td>2.339</td>\n",
       "      <td>1.318172</td>\n",
       "      <td>0.413016</td>\n",
       "      <td>0.7040</td>\n",
       "      <td>1.024833</td>\n",
       "      <td>1.190500</td>\n",
       "      <td>1.499125</td>\n",
       "      <td>3.919</td>\n",
       "    </tr>\n",
       "  </tbody>\n",
       "</table>\n",
       "</div>"
      ],
      "text/plain": [
       "        count      mean       std     min       25%       50%       75%    max\n",
       "IsBump                                                                        \n",
       "0.0     2.084  1.286838  0.503821  0.5475  1.007000  1.152417  1.381000  6.066\n",
       "1.0     2.339  1.318172  0.413016  0.7040  1.024833  1.190500  1.499125  3.919"
      ]
     },
     "execution_count": 10,
     "metadata": {},
     "output_type": "execute_result"
    }
   ],
   "source": [
    "dfTCT = dfStim[dfStim.TouchType == 2].groupby([\"PId\", \"SpeedCondition\", \"IsBump\",\"TouchId\", \"VisualStimuliId\"])[\"TCT\"].max().reset_index()\n",
    "dfTCT = dfTCT.groupby([\"PId\", \"IsBump\", \"SpeedCondition\", \"VisualStimuliId\"]).mean().reset_index()\n",
    "\n",
    "path = DATA_PATH + \"R_TCT.csv\"\n",
    "print(path)\n",
    "dfTCT.to_csv(path, index=None)\n",
    "dfTCT.groupby(\"IsBump\")[\"TCT\"].describe()/1000"
   ]
  },
  {
   "cell_type": "code",
   "execution_count": 11,
   "metadata": {},
   "outputs": [],
   "source": [
    "dfs = []\n",
    "for i in range(5):\n",
    "    s = ((i+1) *10)\n",
    "    df2 = dfStim[(dfStim.SpeedCondition == s) & (dfStim.IsBump == 1)]\n",
    "    df2 = df2[(df2.TimeRelativ > 0)].copy()\n",
    "    dfs.append(df2)\n",
    "dfStimFilter = pd.concat(dfs)"
   ]
  },
  {
   "cell_type": "code",
   "execution_count": 12,
   "metadata": {},
   "outputs": [
    {
     "data": {
      "text/html": [
       "<div>\n",
       "<style scoped>\n",
       "    .dataframe tbody tr th:only-of-type {\n",
       "        vertical-align: middle;\n",
       "    }\n",
       "\n",
       "    .dataframe tbody tr th {\n",
       "        vertical-align: top;\n",
       "    }\n",
       "\n",
       "    .dataframe thead th {\n",
       "        text-align: right;\n",
       "    }\n",
       "</style>\n",
       "<table border=\"1\" class=\"dataframe\">\n",
       "  <thead>\n",
       "    <tr style=\"text-align: right;\">\n",
       "      <th></th>\n",
       "      <th></th>\n",
       "      <th>SpeedCondition</th>\n",
       "      <th>TimeOfBump</th>\n",
       "      <th>TimeOfVisual</th>\n",
       "      <th>VisualStimuliCondition</th>\n",
       "      <th>VisualStimuliPosition</th>\n",
       "      <th>VisualStimuliPositionX</th>\n",
       "      <th>VisualStimuliPositionY</th>\n",
       "      <th>TimeOfTouch</th>\n",
       "      <th>TouchX</th>\n",
       "      <th>TouchY</th>\n",
       "      <th>...</th>\n",
       "      <th>TCT</th>\n",
       "      <th>TouchOffset</th>\n",
       "      <th>TouchId</th>\n",
       "      <th>TimeShift</th>\n",
       "      <th>TimeRelativ</th>\n",
       "      <th>TimeRelativBack</th>\n",
       "      <th>TimeStart</th>\n",
       "      <th>TimeEnd</th>\n",
       "      <th>AccDiff</th>\n",
       "      <th>VisualStimuliId</th>\n",
       "    </tr>\n",
       "    <tr>\n",
       "      <th>IsBump</th>\n",
       "      <th>IsBumpVirtual</th>\n",
       "      <th></th>\n",
       "      <th></th>\n",
       "      <th></th>\n",
       "      <th></th>\n",
       "      <th></th>\n",
       "      <th></th>\n",
       "      <th></th>\n",
       "      <th></th>\n",
       "      <th></th>\n",
       "      <th></th>\n",
       "      <th></th>\n",
       "      <th></th>\n",
       "      <th></th>\n",
       "      <th></th>\n",
       "      <th></th>\n",
       "      <th></th>\n",
       "      <th></th>\n",
       "      <th></th>\n",
       "      <th></th>\n",
       "      <th></th>\n",
       "      <th></th>\n",
       "    </tr>\n",
       "  </thead>\n",
       "  <tbody>\n",
       "    <tr>\n",
       "      <th>0.0</th>\n",
       "      <th>0.0</th>\n",
       "      <td>29005</td>\n",
       "      <td>29005</td>\n",
       "      <td>29005</td>\n",
       "      <td>29005</td>\n",
       "      <td>29005</td>\n",
       "      <td>29005</td>\n",
       "      <td>29005</td>\n",
       "      <td>29005</td>\n",
       "      <td>29005</td>\n",
       "      <td>29005</td>\n",
       "      <td>...</td>\n",
       "      <td>29005</td>\n",
       "      <td>29005</td>\n",
       "      <td>29005</td>\n",
       "      <td>29005</td>\n",
       "      <td>29005</td>\n",
       "      <td>29005</td>\n",
       "      <td>29005</td>\n",
       "      <td>29005</td>\n",
       "      <td>22112</td>\n",
       "      <td>29005</td>\n",
       "    </tr>\n",
       "    <tr>\n",
       "      <th rowspan=\"2\" valign=\"top\">1.0</th>\n",
       "      <th>0.0</th>\n",
       "      <td>6912</td>\n",
       "      <td>6912</td>\n",
       "      <td>6912</td>\n",
       "      <td>6912</td>\n",
       "      <td>6912</td>\n",
       "      <td>6912</td>\n",
       "      <td>6912</td>\n",
       "      <td>6912</td>\n",
       "      <td>6912</td>\n",
       "      <td>6912</td>\n",
       "      <td>...</td>\n",
       "      <td>6912</td>\n",
       "      <td>6912</td>\n",
       "      <td>6912</td>\n",
       "      <td>6912</td>\n",
       "      <td>6912</td>\n",
       "      <td>6912</td>\n",
       "      <td>6912</td>\n",
       "      <td>6912</td>\n",
       "      <td>3</td>\n",
       "      <td>6912</td>\n",
       "    </tr>\n",
       "    <tr>\n",
       "      <th>1.0</th>\n",
       "      <td>39076</td>\n",
       "      <td>39076</td>\n",
       "      <td>39076</td>\n",
       "      <td>39076</td>\n",
       "      <td>39076</td>\n",
       "      <td>39076</td>\n",
       "      <td>39076</td>\n",
       "      <td>39076</td>\n",
       "      <td>39076</td>\n",
       "      <td>39076</td>\n",
       "      <td>...</td>\n",
       "      <td>39076</td>\n",
       "      <td>39076</td>\n",
       "      <td>39076</td>\n",
       "      <td>39076</td>\n",
       "      <td>39076</td>\n",
       "      <td>39076</td>\n",
       "      <td>39076</td>\n",
       "      <td>39076</td>\n",
       "      <td>35123</td>\n",
       "      <td>39076</td>\n",
       "    </tr>\n",
       "  </tbody>\n",
       "</table>\n",
       "<p>3 rows × 27 columns</p>\n",
       "</div>"
      ],
      "text/plain": [
       "                      SpeedCondition  TimeOfBump  TimeOfVisual  \\\n",
       "IsBump IsBumpVirtual                                             \n",
       "0.0    0.0                     29005       29005         29005   \n",
       "1.0    0.0                      6912        6912          6912   \n",
       "       1.0                     39076       39076         39076   \n",
       "\n",
       "                      VisualStimuliCondition  VisualStimuliPosition  \\\n",
       "IsBump IsBumpVirtual                                                  \n",
       "0.0    0.0                             29005                  29005   \n",
       "1.0    0.0                              6912                   6912   \n",
       "       1.0                             39076                  39076   \n",
       "\n",
       "                      VisualStimuliPositionX  VisualStimuliPositionY  \\\n",
       "IsBump IsBumpVirtual                                                   \n",
       "0.0    0.0                             29005                   29005   \n",
       "1.0    0.0                              6912                    6912   \n",
       "       1.0                             39076                   39076   \n",
       "\n",
       "                      TimeOfTouch  TouchX  TouchY       ...           TCT  \\\n",
       "IsBump IsBumpVirtual                                    ...                 \n",
       "0.0    0.0                  29005   29005   29005       ...         29005   \n",
       "1.0    0.0                   6912    6912    6912       ...          6912   \n",
       "       1.0                  39076   39076   39076       ...         39076   \n",
       "\n",
       "                      TouchOffset  TouchId  TimeShift  TimeRelativ  \\\n",
       "IsBump IsBumpVirtual                                                 \n",
       "0.0    0.0                  29005    29005      29005        29005   \n",
       "1.0    0.0                   6912     6912       6912         6912   \n",
       "       1.0                  39076    39076      39076        39076   \n",
       "\n",
       "                      TimeRelativBack  TimeStart  TimeEnd  AccDiff  \\\n",
       "IsBump IsBumpVirtual                                                 \n",
       "0.0    0.0                      29005      29005    29005    22112   \n",
       "1.0    0.0                       6912       6912     6912        3   \n",
       "       1.0                      39076      39076    39076    35123   \n",
       "\n",
       "                      VisualStimuliId  \n",
       "IsBump IsBumpVirtual                   \n",
       "0.0    0.0                      29005  \n",
       "1.0    0.0                       6912  \n",
       "       1.0                      39076  \n",
       "\n",
       "[3 rows x 27 columns]"
      ]
     },
     "execution_count": 12,
     "metadata": {},
     "output_type": "execute_result"
    }
   ],
   "source": [
    "dfStim[\"IsBumpVirtual\"] = dfStim.IsBump\n",
    "\n",
    "dfStim.loc[dfStim.IsBump == 1, \"IsBumpVirtual\"] = 0.0\n",
    "dfStim.loc[dfStim.TouchId.isin(dfStimFilter.TouchId.unique()), \"IsBumpVirtual\"] = 1.0\n",
    "dfStim.groupby([\"IsBump\", \"IsBumpVirtual\"]).count()"
   ]
  },
  {
   "cell_type": "code",
   "execution_count": 13,
   "metadata": {},
   "outputs": [
    {
     "name": "stdout",
     "output_type": "stream",
     "text": [
      "Samples without bump before:\n"
     ]
    },
    {
     "data": {
      "text/plain": [
       "16.845248550851924"
      ]
     },
     "execution_count": 13,
     "metadata": {},
     "output_type": "execute_result"
    }
   ],
   "source": [
    "print(\"Samples without bump before:\")\n",
    "(len(dfStim[(dfStim.IsBumpVirtual == 0) & (dfStim.IsBump == 1)].TouchId.unique())/len(dfStim[(dfStim.IsBump == 1)].TouchId.unique()))*100"
   ]
  },
  {
   "cell_type": "code",
   "execution_count": 14,
   "metadata": {},
   "outputs": [
    {
     "data": {
      "image/png": "[encoded data removed]",
      "text/plain": [
       "<Figure size 432x288 with 1 Axes>"
      ]
     },
     "metadata": {},
     "output_type": "display_data"
    },
    {
     "data": {
      "image/png": "[encoded data removed]",
      "text/plain": [
       "<Figure size 432x288 with 1 Axes>"
      ]
     },
     "metadata": {},
     "output_type": "display_data"
    },
    {
     "data": {
      "image/png": "[encoded data removed]",
      "text/plain": [
       "<Figure size 432x288 with 1 Axes>"
      ]
     },
     "metadata": {},
     "output_type": "display_data"
    },
    {
     "data": {
      "image/png": "[encoded data removed]",
      "text/plain": [
       "<Figure size 432x288 with 1 Axes>"
      ]
     },
     "metadata": {},
     "output_type": "display_data"
    },
    {
     "data": {
      "image/png": "[encoded data removed]",
      "text/plain": [
       "<Figure size 432x288 with 1 Axes>"
      ]
     },
     "metadata": {},
     "output_type": "display_data"
    }
   ],
   "source": [
    "for i in range(5):\n",
    "    s = ((i+1) *10)\n",
    "    \n",
    "    fig, ax = plt.subplots()\n",
    "    df = dfAcc[dfAcc.Speed == s]\n",
    "    plt.plot(df.Time, (df.Acc+3)*200.0, label=\"Bump motion\", c=colorDic[\"blue\"])\n",
    "\n",
    "    \n",
    "    df2 = dfStim[(dfStim.SpeedCondition == s) & (dfStim.IsBumpVirtual == 1.0)]\n",
    "\n",
    "    plt.hist(df2.TimeRelativ, 30, color=colorDic[\"purple\"], alpha=0.5, range=(-1100,6000))\n",
    "   \n",
    "    plt.xlabel(\"Time (s)\")\n",
    "    plt.ylabel(\"Percentage of touch events (%)\")\n",
    "    ax.set_xticklabels(ax.get_xticks() /1000)\n",
    "    ax.set_yticklabels(ax.get_yticks() *100)\n",
    "    \n",
    "    plt.legend()\n",
    "    plt.show()"
   ]
  },
  {
   "cell_type": "code",
   "execution_count": 15,
   "metadata": {},
   "outputs": [],
   "source": [
    "dfStim.index = range(len(dfStim))\n",
    "dfStim[\"TouchEventId\"] = range(len(dfStim))\n",
    "dfStim[\"TouchOffsetX\"] = dfStim.TouchX - dfStim.VisualStimuliPositionX \n",
    "dfStim[\"TouchOffsetY\"] = dfStim.TouchY - dfStim.VisualStimuliPositionY"
   ]
  },
  {
   "cell_type": "code",
   "execution_count": 16,
   "metadata": {},
   "outputs": [
    {
     "data": {
      "text/html": [
       "<div>\n",
       "<style scoped>\n",
       "    .dataframe tbody tr th:only-of-type {\n",
       "        vertical-align: middle;\n",
       "    }\n",
       "\n",
       "    .dataframe tbody tr th {\n",
       "        vertical-align: top;\n",
       "    }\n",
       "\n",
       "    .dataframe thead th {\n",
       "        text-align: right;\n",
       "    }\n",
       "</style>\n",
       "<table border=\"1\" class=\"dataframe\">\n",
       "  <thead>\n",
       "    <tr style=\"text-align: right;\">\n",
       "      <th></th>\n",
       "      <th>Time</th>\n",
       "      <th>Acc</th>\n",
       "      <th>Diff</th>\n",
       "    </tr>\n",
       "    <tr>\n",
       "      <th>Speed</th>\n",
       "      <th></th>\n",
       "      <th></th>\n",
       "      <th></th>\n",
       "    </tr>\n",
       "  </thead>\n",
       "  <tbody>\n",
       "    <tr>\n",
       "      <th>10</th>\n",
       "      <td>2334</td>\n",
       "      <td>1.839587</td>\n",
       "      <td>0.049702</td>\n",
       "    </tr>\n",
       "    <tr>\n",
       "      <th>20</th>\n",
       "      <td>1796</td>\n",
       "      <td>1.302030</td>\n",
       "      <td>0.048290</td>\n",
       "    </tr>\n",
       "    <tr>\n",
       "      <th>30</th>\n",
       "      <td>1557</td>\n",
       "      <td>0.849509</td>\n",
       "      <td>0.034685</td>\n",
       "    </tr>\n",
       "    <tr>\n",
       "      <th>40</th>\n",
       "      <td>1431</td>\n",
       "      <td>1.206069</td>\n",
       "      <td>0.031616</td>\n",
       "    </tr>\n",
       "    <tr>\n",
       "      <th>50</th>\n",
       "      <td>1390</td>\n",
       "      <td>1.231993</td>\n",
       "      <td>0.045879</td>\n",
       "    </tr>\n",
       "  </tbody>\n",
       "</table>\n",
       "</div>"
      ],
      "text/plain": [
       "       Time       Acc      Diff\n",
       "Speed                          \n",
       "10     2334  1.839587  0.049702\n",
       "20     1796  1.302030  0.048290\n",
       "30     1557  0.849509  0.034685\n",
       "40     1431  1.206069  0.031616\n",
       "50     1390  1.231993  0.045879"
      ]
     },
     "execution_count": 16,
     "metadata": {},
     "output_type": "execute_result"
    }
   ],
   "source": [
    "dfF = dfAcc.groupby(\"Speed\").max()\n",
    "dfF"
   ]
  },
  {
   "cell_type": "code",
   "execution_count": 17,
   "metadata": {},
   "outputs": [],
   "source": [
    "TouchEventId = dfStim.groupby([\"TouchId\"])[\"TouchEventId\"].max().values"
   ]
  },
  {
   "cell_type": "code",
   "execution_count": 18,
   "metadata": {},
   "outputs": [
    {
     "name": "stdout",
     "output_type": "stream",
     "text": [
      "4.67 % late touches removed\n",
      "5.10 % removed touch events due to the last was late\n"
     ]
    }
   ],
   "source": [
    "TouchIdFilter = []\n",
    "for s in dfStim.SpeedCondition.unique():\n",
    "    x = dfStim[dfStim.TouchEventId.isin(TouchEventId) & (dfStim.TimeRelativ < dfF.loc[s].Time) & (dfStim.SpeedCondition == s)].TouchId.values\n",
    "    TouchIdFilter.append(x)\n",
    "TouchIdFilter = np.concatenate(TouchIdFilter)\n",
    "\n",
    "print(\"%.2f %% late touches removed\" %((1-(len(TouchIdFilter) /len(TouchEventId)))*100))\n",
    "\n",
    "dfStimFiltered = dfStim[dfStim.TouchId.isin(TouchIdFilter)]\n",
    "\n",
    "print(\"%.2f %% removed touch events due to the last was late\" %((1-(len(dfStimFiltered) /len(dfStim)))*100))"
   ]
  },
  {
   "cell_type": "code",
   "execution_count": 19,
   "metadata": {},
   "outputs": [
    {
     "name": "stdout",
     "output_type": "stream",
     "text": [
      "count    9052.000000\n",
      "mean       49.911311\n",
      "std        65.198951\n",
      "min         0.000000\n",
      "25%        22.835158\n",
      "50%        39.271774\n",
      "75%        63.104921\n",
      "max      2704.754534\n",
      "Name: TouchOffset, dtype: float64\n",
      "\n",
      "Upper limit 180.31 \n",
      "\n",
      "count    8975.000000\n",
      "mean       46.565642\n",
      "std        32.146447\n",
      "min         0.000000\n",
      "25%        22.658822\n",
      "50%        38.964157\n",
      "75%        62.118346\n",
      "max       180.249827\n",
      "Name: TouchOffset, dtype: float64\n",
      "9052\n",
      "8975\n",
      "-77\n",
      "0.008506407423773732\n",
      "0.85 % of all touch downs removed samples\n"
     ]
    }
   ],
   "source": [
    "TouchEventId = dfStimFiltered.groupby([\"TouchId\"])[\"TouchEventId\"].max().values\n",
    "df2 = dfStimFiltered[dfStimFiltered.TouchEventId.isin(TouchEventId)][[\"TouchId\", \"TouchOffsetX\", \"TouchOffsetY\", \"TouchOffset\", \"SpeedCondition\", \"IsBumpVirtual\"]]\n",
    "f = df2.TouchOffset.describe()\n",
    "print(f)\n",
    "print(\"\\nUpper limit %.2f \\n\" % (f[\"mean\"] + 2 * f[\"std\"]))\n",
    "df3 = df2[df2.TouchOffset < f[\"mean\"] + 2 * f[\"std\"]]\n",
    "print(df3.TouchOffset.describe())\n",
    "print((len(df2)))\n",
    "print((len(df3)))\n",
    "\n",
    "print(len(df3) -len(df2))\n",
    "print(1-(len(df3) /len(df2)))\n",
    "print(\"%.2f %% of all touch downs removed samples\" %((1-(len(df3) /len(df2)))*100))"
   ]
  },
  {
   "cell_type": "code",
   "execution_count": 20,
   "metadata": {},
   "outputs": [
    {
     "data": {
      "text/plain": [
       "count    8975.000000\n",
       "mean       46.565642\n",
       "std        32.146447\n",
       "min         0.000000\n",
       "25%        22.658822\n",
       "50%        38.964157\n",
       "75%        62.118346\n",
       "max       180.249827\n",
       "Name: TouchOffset, dtype: float64"
      ]
     },
     "execution_count": 20,
     "metadata": {},
     "output_type": "execute_result"
    }
   ],
   "source": [
    "df3.TouchOffset.describe()"
   ]
  },
  {
   "cell_type": "code",
   "execution_count": 21,
   "metadata": {},
   "outputs": [
    {
     "name": "stdout",
     "output_type": "stream",
     "text": [
      "74993\n",
      "71171\n",
      "0.89 % of all toch events removed\n"
     ]
    }
   ],
   "source": [
    "dfStimFiltered2 = dfStimFiltered[dfStimFiltered.TouchId.isin(df3.TouchId)]\n",
    "print((len(dfStim)))\n",
    "print((len(dfStimFiltered)))\n",
    "print(\"%.2f %% of all toch events removed\" %((1-(len(dfStimFiltered2) /len(dfStimFiltered)))*100))"
   ]
  },
  {
   "cell_type": "code",
   "execution_count": 22,
   "metadata": {},
   "outputs": [],
   "source": [
    "dfStimFiltered2.to_pickle(DATA_PATH  + \"data_02_stim.pkl\")"
   ]
  }
 ],
 "metadata": {
  "kernelspec": {
   "display_name": "Python 3",
   "language": "python",
   "name": "python3"
  },
  "language_info": {
   "codemirror_mode": {
    "name": "ipython",
    "version": 3
   },
   "file_extension": ".py",
   "mimetype": "text/x-python",
   "name": "python",
   "nbconvert_exporter": "python",
   "pygments_lexer": "ipython3",
   "version": "3.6.5"
  }
 },
 "nbformat": 4,
 "nbformat_minor": 2
}
