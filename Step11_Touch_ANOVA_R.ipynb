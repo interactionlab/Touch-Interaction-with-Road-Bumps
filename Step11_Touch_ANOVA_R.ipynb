{
 "cells": [
  {
   "cell_type": "code",
   "execution_count": 1,
   "metadata": {},
   "outputs": [],
   "source": [
    "library(ez)"
   ]
  },
  {
   "cell_type": "code",
   "execution_count": 3,
   "metadata": {},
   "outputs": [
    {
     "data": {
      "text/html": [
       "<dl>\n",
       "\t<dt>$ANOVA</dt>\n",
       "\t\t<dd><table>\n",
       "<thead><tr><th></th><th scope=col>Effect</th><th scope=col>DFn</th><th scope=col>DFd</th><th scope=col>F</th><th scope=col>p</th><th scope=col>p&lt;.05</th><th scope=col>ges</th></tr></thead>\n",
       "<tbody>\n",
       "\t<tr><th scope=row>2</th><td>IsBumpVirtual               </td><td>1                           </td><td>15                          </td><td>14.1159265                  </td><td>0.001903035                 </td><td>*                           </td><td>0.03458640                  </td></tr>\n",
       "\t<tr><th scope=row>3</th><td>SpeedCondition              </td><td>4                           </td><td>60                          </td><td> 0.7275154                  </td><td>0.576658181                 </td><td>                            </td><td>0.02705252                  </td></tr>\n",
       "\t<tr><th scope=row>4</th><td>IsBumpVirtual:SpeedCondition</td><td>4                           </td><td>60                          </td><td> 2.3130939                  </td><td>0.067790880                 </td><td>                            </td><td>0.01759152                  </td></tr>\n",
       "</tbody>\n",
       "</table>\n",
       "</dd>\n",
       "\t<dt>$`Mauchly's Test for Sphericity`</dt>\n",
       "\t\t<dd><table>\n",
       "<thead><tr><th></th><th scope=col>Effect</th><th scope=col>W</th><th scope=col>p</th><th scope=col>p&lt;.05</th></tr></thead>\n",
       "<tbody>\n",
       "\t<tr><th scope=row>3</th><td>SpeedCondition              </td><td>0.02064115                  </td><td>5.809583e-08                </td><td>*                           </td></tr>\n",
       "\t<tr><th scope=row>4</th><td>IsBumpVirtual:SpeedCondition</td><td>0.31235995                  </td><td>7.761825e-02                </td><td>                            </td></tr>\n",
       "</tbody>\n",
       "</table>\n",
       "</dd>\n",
       "\t<dt>$`Sphericity Corrections`</dt>\n",
       "\t\t<dd><table>\n",
       "<thead><tr><th></th><th scope=col>Effect</th><th scope=col>GGe</th><th scope=col>p[GG]</th><th scope=col>p[GG]&lt;.05</th><th scope=col>HFe</th><th scope=col>p[HF]</th><th scope=col>p[HF]&lt;.05</th></tr></thead>\n",
       "<tbody>\n",
       "\t<tr><th scope=row>3</th><td>SpeedCondition              </td><td>0.3413243                   </td><td>0.44504503                  </td><td>                            </td><td>0.3638648                   </td><td>0.45282273                  </td><td>                            </td></tr>\n",
       "\t<tr><th scope=row>4</th><td>IsBumpVirtual:SpeedCondition</td><td>0.7062058                   </td><td>0.09304901                  </td><td>                            </td><td>0.8869927                   </td><td>0.07652037                  </td><td>                            </td></tr>\n",
       "</tbody>\n",
       "</table>\n",
       "</dd>\n",
       "</dl>\n"
      ],
      "text/latex": [
       "\\begin{description}\n",
       "\\item[\\$ANOVA] \\begin{tabular}{r|lllllll}\n",
       "  & Effect & DFn & DFd & F & p & p<.05 & ges\\\\\n",
       "\\hline\n",
       "\t2 & IsBumpVirtual                & 1                            & 15                           & 14.1159265                   & 0.001903035                  & *                            & 0.03458640                  \\\\\n",
       "\t3 & SpeedCondition               & 4                            & 60                           &  0.7275154                   & 0.576658181                  &                              & 0.02705252                  \\\\\n",
       "\t4 & IsBumpVirtual:SpeedCondition & 4                            & 60                           &  2.3130939                   & 0.067790880                  &                              & 0.01759152                  \\\\\n",
       "\\end{tabular}\n",
       "\n",
       "\\item[\\$`Mauchly's Test for Sphericity`] \\begin{tabular}{r|llll}\n",
       "  & Effect & W & p & p<.05\\\\\n",
       "\\hline\n",
       "\t3 & SpeedCondition               & 0.02064115                   & 5.809583e-08                 & *                           \\\\\n",
       "\t4 & IsBumpVirtual:SpeedCondition & 0.31235995                   & 7.761825e-02                 &                             \\\\\n",
       "\\end{tabular}\n",
       "\n",
       "\\item[\\$`Sphericity Corrections`] \\begin{tabular}{r|lllllll}\n",
       "  & Effect & GGe & p{[}GG{]} & p{[}GG{]}<.05 & HFe & p{[}HF{]} & p{[}HF{]}<.05\\\\\n",
       "\\hline\n",
       "\t3 & SpeedCondition               & 0.3413243                    & 0.44504503                   &                              & 0.3638648                    & 0.45282273                   &                             \\\\\n",
       "\t4 & IsBumpVirtual:SpeedCondition & 0.7062058                    & 0.09304901                   &                              & 0.8869927                    & 0.07652037                   &                             \\\\\n",
       "\\end{tabular}\n",
       "\n",
       "\\end{description}\n"
      ],
      "text/markdown": [
       "$ANOVA\n",
       ":   \n",
       "| <!--/--> | Effect | DFn | DFd | F | p | p<.05 | ges | \n",
       "|---|---|---|\n",
       "| 2 | IsBumpVirtual                | 1                            | 15                           | 14.1159265                   | 0.001903035                  | *                            | 0.03458640                   | \n",
       "| 3 | SpeedCondition               | 4                            | 60                           |  0.7275154                   | 0.576658181                  |                              | 0.02705252                   | \n",
       "| 4 | IsBumpVirtual:SpeedCondition | 4                            | 60                           |  2.3130939                   | 0.067790880                  |                              | 0.01759152                   | \n",
       "\n",
       "\n",
       "\n",
       "$`Mauchly's Test for Sphericity`\n",
       ":   \n",
       "| <!--/--> | Effect | W | p | p<.05 | \n",
       "|---|---|\n",
       "| 3 | SpeedCondition               | 0.02064115                   | 5.809583e-08                 | *                            | \n",
       "| 4 | IsBumpVirtual:SpeedCondition | 0.31235995                   | 7.761825e-02                 |                              | \n",
       "\n",
       "\n",
       "\n",
       "$`Sphericity Corrections`\n",
       ":   \n",
       "| <!--/--> | Effect | GGe | p[GG] | p[GG]<.05 | HFe | p[HF] | p[HF]<.05 | \n",
       "|---|---|\n",
       "| 3 | SpeedCondition               | 0.3413243                    | 0.44504503                   |                              | 0.3638648                    | 0.45282273                   |                              | \n",
       "| 4 | IsBumpVirtual:SpeedCondition | 0.7062058                    | 0.09304901                   |                              | 0.8869927                    | 0.07652037                   |                              | \n",
       "\n",
       "\n",
       "\n",
       "\n",
       "\n"
      ],
      "text/plain": [
       "$ANOVA\n",
       "                        Effect DFn DFd          F           p p<.05        ges\n",
       "2                IsBumpVirtual   1  15 14.1159265 0.001903035     * 0.03458640\n",
       "3               SpeedCondition   4  60  0.7275154 0.576658181       0.02705252\n",
       "4 IsBumpVirtual:SpeedCondition   4  60  2.3130939 0.067790880       0.01759152\n",
       "\n",
       "$`Mauchly's Test for Sphericity`\n",
       "                        Effect          W            p p<.05\n",
       "3               SpeedCondition 0.02064115 5.809583e-08     *\n",
       "4 IsBumpVirtual:SpeedCondition 0.31235995 7.761825e-02      \n",
       "\n",
       "$`Sphericity Corrections`\n",
       "                        Effect       GGe      p[GG] p[GG]<.05       HFe\n",
       "3               SpeedCondition 0.3413243 0.44504503           0.3638648\n",
       "4 IsBumpVirtual:SpeedCondition 0.7062058 0.09304901           0.8869927\n",
       "       p[HF] p[HF]<.05\n",
       "3 0.45282273          \n",
       "4 0.07652037          \n"
      ]
     },
     "metadata": {},
     "output_type": "display_data"
    }
   ],
   "source": [
    "df = read.csv(\"./data/R_Count_Down.csv\")\n",
    "df$PId <- factor(df$PId)\n",
    "df$IsBumpVirtual <- factor(df$IsBumpVirtual)\n",
    "df$SpeedCondition <- factor(df$SpeedCondition)\n",
    "mod <- ezANOVA (data = df,\n",
    "        dv = Count,\n",
    "        within = .(IsBumpVirtual, SpeedCondition),\n",
    "        wid = .(PId),\n",
    "        type = 3)\n",
    "mod"
   ]
  },
  {
   "cell_type": "code",
   "execution_count": 4,
   "metadata": {},
   "outputs": [],
   "source": [
    "# if epsilon is > .75, the Huynh-Feldt correction should be applied\n",
    "# if epsilon is < .75, the Greenhouse-Geisser correction should be applied."
   ]
  },
  {
   "cell_type": "code",
   "execution_count": 5,
   "metadata": {},
   "outputs": [
    {
     "data": {
      "text/html": [
       "<ol class=list-inline>\n",
       "\t<li>1.3652971306272</li>\n",
       "\t<li>2.82482314934449</li>\n",
       "</ol>\n"
      ],
      "text/latex": [
       "\\begin{enumerate*}\n",
       "\\item 1.3652971306272\n",
       "\\item 2.82482314934449\n",
       "\\end{enumerate*}\n"
      ],
      "text/markdown": [
       "1. 1.3652971306272\n",
       "2. 2.82482314934449\n",
       "\n",
       "\n"
      ],
      "text/plain": [
       "[1] 1.365297 2.824823"
      ]
     },
     "metadata": {},
     "output_type": "display_data"
    },
    {
     "data": {
      "text/html": [
       "<ol class=list-inline>\n",
       "\t<li>20.479456959408</li>\n",
       "\t<li>42.3723472401673</li>\n",
       "</ol>\n"
      ],
      "text/latex": [
       "\\begin{enumerate*}\n",
       "\\item 20.479456959408\n",
       "\\item 42.3723472401673\n",
       "\\end{enumerate*}\n"
      ],
      "text/markdown": [
       "1. 20.479456959408\n",
       "2. 42.3723472401673\n",
       "\n",
       "\n"
      ],
      "text/plain": [
       "[1] 20.47946 42.37235"
      ]
     },
     "metadata": {},
     "output_type": "display_data"
    }
   ],
   "source": [
    "mod$\"Sphericity Corrections\"$GGe  * c(4,4)\n",
    "mod$\"Sphericity Corrections\"$GGe  * c(60,60)"
   ]
  },
  {
   "cell_type": "code",
   "execution_count": 6,
   "metadata": {},
   "outputs": [
    {
     "data": {
      "text/html": [
       "<dl>\n",
       "\t<dt>$ANOVA</dt>\n",
       "\t\t<dd><table>\n",
       "<thead><tr><th></th><th scope=col>Effect</th><th scope=col>DFn</th><th scope=col>DFd</th><th scope=col>F</th><th scope=col>p</th><th scope=col>p&lt;.05</th><th scope=col>ges</th></tr></thead>\n",
       "<tbody>\n",
       "\t<tr><th scope=row>2</th><td>IsBumpVirtual               </td><td>1                           </td><td>15                          </td><td>8.144089                    </td><td>0.01207368                  </td><td>*                           </td><td>0.0107341573                </td></tr>\n",
       "\t<tr><th scope=row>3</th><td>SpeedCondition              </td><td>4                           </td><td>60                          </td><td>2.374589                    </td><td>0.06206985                  </td><td>                            </td><td>0.0048575260                </td></tr>\n",
       "\t<tr><th scope=row>4</th><td>IsBumpVirtual:SpeedCondition</td><td>4                           </td><td>60                          </td><td>1.186706                    </td><td>0.32587663                  </td><td>                            </td><td>0.0009768897                </td></tr>\n",
       "</tbody>\n",
       "</table>\n",
       "</dd>\n",
       "\t<dt>$`Mauchly's Test for Sphericity`</dt>\n",
       "\t\t<dd><table>\n",
       "<thead><tr><th></th><th scope=col>Effect</th><th scope=col>W</th><th scope=col>p</th><th scope=col>p&lt;.05</th></tr></thead>\n",
       "<tbody>\n",
       "\t<tr><th scope=row>3</th><td>SpeedCondition              </td><td>0.08798180                  </td><td>1.759805e-04                </td><td>*                           </td></tr>\n",
       "\t<tr><th scope=row>4</th><td>IsBumpVirtual:SpeedCondition</td><td>0.03192285                  </td><td>6.894034e-07                </td><td>*                           </td></tr>\n",
       "</tbody>\n",
       "</table>\n",
       "</dd>\n",
       "\t<dt>$`Sphericity Corrections`</dt>\n",
       "\t\t<dd><table>\n",
       "<thead><tr><th></th><th scope=col>Effect</th><th scope=col>GGe</th><th scope=col>p[GG]</th><th scope=col>p[GG]&lt;.05</th><th scope=col>HFe</th><th scope=col>p[HF]</th><th scope=col>p[HF]&lt;.05</th></tr></thead>\n",
       "<tbody>\n",
       "\t<tr><th scope=row>3</th><td>SpeedCondition              </td><td>0.4832235                   </td><td>0.1124586                   </td><td>                            </td><td>0.5534183                   </td><td>0.1037409                   </td><td>                            </td></tr>\n",
       "\t<tr><th scope=row>4</th><td>IsBumpVirtual:SpeedCondition</td><td>0.3823197                   </td><td>0.3112820                   </td><td>                            </td><td>0.4169870                   </td><td>0.3141395                   </td><td>                            </td></tr>\n",
       "</tbody>\n",
       "</table>\n",
       "</dd>\n",
       "</dl>\n"
      ],
      "text/latex": [
       "\\begin{description}\n",
       "\\item[\\$ANOVA] \\begin{tabular}{r|lllllll}\n",
       "  & Effect & DFn & DFd & F & p & p<.05 & ges\\\\\n",
       "\\hline\n",
       "\t2 & IsBumpVirtual                & 1                            & 15                           & 8.144089                     & 0.01207368                   & *                            & 0.0107341573                \\\\\n",
       "\t3 & SpeedCondition               & 4                            & 60                           & 2.374589                     & 0.06206985                   &                              & 0.0048575260                \\\\\n",
       "\t4 & IsBumpVirtual:SpeedCondition & 4                            & 60                           & 1.186706                     & 0.32587663                   &                              & 0.0009768897                \\\\\n",
       "\\end{tabular}\n",
       "\n",
       "\\item[\\$`Mauchly's Test for Sphericity`] \\begin{tabular}{r|llll}\n",
       "  & Effect & W & p & p<.05\\\\\n",
       "\\hline\n",
       "\t3 & SpeedCondition               & 0.08798180                   & 1.759805e-04                 & *                           \\\\\n",
       "\t4 & IsBumpVirtual:SpeedCondition & 0.03192285                   & 6.894034e-07                 & *                           \\\\\n",
       "\\end{tabular}\n",
       "\n",
       "\\item[\\$`Sphericity Corrections`] \\begin{tabular}{r|lllllll}\n",
       "  & Effect & GGe & p{[}GG{]} & p{[}GG{]}<.05 & HFe & p{[}HF{]} & p{[}HF{]}<.05\\\\\n",
       "\\hline\n",
       "\t3 & SpeedCondition               & 0.4832235                    & 0.1124586                    &                              & 0.5534183                    & 0.1037409                    &                             \\\\\n",
       "\t4 & IsBumpVirtual:SpeedCondition & 0.3823197                    & 0.3112820                    &                              & 0.4169870                    & 0.3141395                    &                             \\\\\n",
       "\\end{tabular}\n",
       "\n",
       "\\end{description}\n"
      ],
      "text/markdown": [
       "$ANOVA\n",
       ":   \n",
       "| <!--/--> | Effect | DFn | DFd | F | p | p<.05 | ges | \n",
       "|---|---|---|\n",
       "| 2 | IsBumpVirtual                | 1                            | 15                           | 8.144089                     | 0.01207368                   | *                            | 0.0107341573                 | \n",
       "| 3 | SpeedCondition               | 4                            | 60                           | 2.374589                     | 0.06206985                   |                              | 0.0048575260                 | \n",
       "| 4 | IsBumpVirtual:SpeedCondition | 4                            | 60                           | 1.186706                     | 0.32587663                   |                              | 0.0009768897                 | \n",
       "\n",
       "\n",
       "\n",
       "$`Mauchly's Test for Sphericity`\n",
       ":   \n",
       "| <!--/--> | Effect | W | p | p<.05 | \n",
       "|---|---|\n",
       "| 3 | SpeedCondition               | 0.08798180                   | 1.759805e-04                 | *                            | \n",
       "| 4 | IsBumpVirtual:SpeedCondition | 0.03192285                   | 6.894034e-07                 | *                            | \n",
       "\n",
       "\n",
       "\n",
       "$`Sphericity Corrections`\n",
       ":   \n",
       "| <!--/--> | Effect | GGe | p[GG] | p[GG]<.05 | HFe | p[HF] | p[HF]<.05 | \n",
       "|---|---|\n",
       "| 3 | SpeedCondition               | 0.4832235                    | 0.1124586                    |                              | 0.5534183                    | 0.1037409                    |                              | \n",
       "| 4 | IsBumpVirtual:SpeedCondition | 0.3823197                    | 0.3112820                    |                              | 0.4169870                    | 0.3141395                    |                              | \n",
       "\n",
       "\n",
       "\n",
       "\n",
       "\n"
      ],
      "text/plain": [
       "$ANOVA\n",
       "                        Effect DFn DFd        F          p p<.05          ges\n",
       "2                IsBumpVirtual   1  15 8.144089 0.01207368     * 0.0107341573\n",
       "3               SpeedCondition   4  60 2.374589 0.06206985       0.0048575260\n",
       "4 IsBumpVirtual:SpeedCondition   4  60 1.186706 0.32587663       0.0009768897\n",
       "\n",
       "$`Mauchly's Test for Sphericity`\n",
       "                        Effect          W            p p<.05\n",
       "3               SpeedCondition 0.08798180 1.759805e-04     *\n",
       "4 IsBumpVirtual:SpeedCondition 0.03192285 6.894034e-07     *\n",
       "\n",
       "$`Sphericity Corrections`\n",
       "                        Effect       GGe     p[GG] p[GG]<.05       HFe\n",
       "3               SpeedCondition 0.4832235 0.1124586           0.5534183\n",
       "4 IsBumpVirtual:SpeedCondition 0.3823197 0.3112820           0.4169870\n",
       "      p[HF] p[HF]<.05\n",
       "3 0.1037409          \n",
       "4 0.3141395          \n"
      ]
     },
     "metadata": {},
     "output_type": "display_data"
    }
   ],
   "source": [
    "df = read.csv(\"./data/R_Count_Move.csv\")\n",
    "df$PId <- factor(df$PId)\n",
    "df$IsBumpVirtual <- factor(df$IsBumpVirtual)\n",
    "df$SpeedCondition <- factor(df$SpeedCondition)\n",
    "mod <- ezANOVA (data = df,\n",
    "        dv = Count,\n",
    "        within = .(IsBumpVirtual, SpeedCondition),\n",
    "        wid = .(PId),\n",
    "        type = 3)\n",
    "        #return_aov=T)\n",
    "mod"
   ]
  },
  {
   "cell_type": "code",
   "execution_count": 7,
   "metadata": {},
   "outputs": [
    {
     "data": {
      "text/html": [
       "<ol class=list-inline>\n",
       "\t<li>1.93289404533391</li>\n",
       "\t<li>1.52927891433733</li>\n",
       "</ol>\n"
      ],
      "text/latex": [
       "\\begin{enumerate*}\n",
       "\\item 1.93289404533391\n",
       "\\item 1.52927891433733\n",
       "\\end{enumerate*}\n"
      ],
      "text/markdown": [
       "1. 1.93289404533391\n",
       "2. 1.52927891433733\n",
       "\n",
       "\n"
      ],
      "text/plain": [
       "[1] 1.932894 1.529279"
      ]
     },
     "metadata": {},
     "output_type": "display_data"
    },
    {
     "data": {
      "text/html": [
       "<ol class=list-inline>\n",
       "\t<li>28.9934106800086</li>\n",
       "\t<li>22.9391837150599</li>\n",
       "</ol>\n"
      ],
      "text/latex": [
       "\\begin{enumerate*}\n",
       "\\item 28.9934106800086\n",
       "\\item 22.9391837150599\n",
       "\\end{enumerate*}\n"
      ],
      "text/markdown": [
       "1. 28.9934106800086\n",
       "2. 22.9391837150599\n",
       "\n",
       "\n"
      ],
      "text/plain": [
       "[1] 28.99341 22.93918"
      ]
     },
     "metadata": {},
     "output_type": "display_data"
    }
   ],
   "source": [
    "mod$\"Sphericity Corrections\"$GGe  * c(4,4)\n",
    "mod$\"Sphericity Corrections\"$GGe  * c(60,60)"
   ]
  },
  {
   "cell_type": "code",
   "execution_count": 8,
   "metadata": {},
   "outputs": [
    {
     "data": {
      "text/html": [
       "<dl>\n",
       "\t<dt>$ANOVA</dt>\n",
       "\t\t<dd><table>\n",
       "<thead><tr><th></th><th scope=col>Effect</th><th scope=col>DFn</th><th scope=col>DFd</th><th scope=col>F</th><th scope=col>p</th><th scope=col>p&lt;.05</th><th scope=col>ges</th></tr></thead>\n",
       "<tbody>\n",
       "\t<tr><th scope=row>2</th><td>IsBumpVirtual               </td><td>1                           </td><td>15                          </td><td>68.440588                   </td><td>5.683277e-07                </td><td>*                           </td><td>0.085540770                 </td></tr>\n",
       "\t<tr><th scope=row>3</th><td>SpeedCondition              </td><td>4                           </td><td>60                          </td><td> 1.494996                   </td><td>2.150787e-01                </td><td>                            </td><td>0.009930599                 </td></tr>\n",
       "\t<tr><th scope=row>4</th><td>IsBumpVirtual:SpeedCondition</td><td>4                           </td><td>60                          </td><td> 6.043294                   </td><td>3.735068e-04                </td><td>*                           </td><td>0.011624699                 </td></tr>\n",
       "</tbody>\n",
       "</table>\n",
       "</dd>\n",
       "\t<dt>$`Mauchly's Test for Sphericity`</dt>\n",
       "\t\t<dd><table>\n",
       "<thead><tr><th></th><th scope=col>Effect</th><th scope=col>W</th><th scope=col>p</th><th scope=col>p&lt;.05</th></tr></thead>\n",
       "<tbody>\n",
       "\t<tr><th scope=row>3</th><td>SpeedCondition              </td><td>0.1958604                   </td><td>0.009821297                 </td><td>*                           </td></tr>\n",
       "\t<tr><th scope=row>4</th><td>IsBumpVirtual:SpeedCondition</td><td>0.4504329                   </td><td>0.300571951                 </td><td>                            </td></tr>\n",
       "</tbody>\n",
       "</table>\n",
       "</dd>\n",
       "\t<dt>$`Sphericity Corrections`</dt>\n",
       "\t\t<dd><table>\n",
       "<thead><tr><th></th><th scope=col>Effect</th><th scope=col>GGe</th><th scope=col>p[GG]</th><th scope=col>p[GG]&lt;.05</th><th scope=col>HFe</th><th scope=col>p[HF]</th><th scope=col>p[HF]&lt;.05</th></tr></thead>\n",
       "<tbody>\n",
       "\t<tr><th scope=row>3</th><td>SpeedCondition              </td><td>0.6146029                   </td><td>0.235609728                 </td><td>                            </td><td>0.7442156                   </td><td>0.2290348497                </td><td>                            </td></tr>\n",
       "\t<tr><th scope=row>4</th><td>IsBumpVirtual:SpeedCondition</td><td>0.7132957                   </td><td>0.001853029                 </td><td>*                           </td><td>0.8984026                   </td><td>0.0006568297                </td><td>*                           </td></tr>\n",
       "</tbody>\n",
       "</table>\n",
       "</dd>\n",
       "</dl>\n"
      ],
      "text/latex": [
       "\\begin{description}\n",
       "\\item[\\$ANOVA] \\begin{tabular}{r|lllllll}\n",
       "  & Effect & DFn & DFd & F & p & p<.05 & ges\\\\\n",
       "\\hline\n",
       "\t2 & IsBumpVirtual                & 1                            & 15                           & 68.440588                    & 5.683277e-07                 & *                            & 0.085540770                 \\\\\n",
       "\t3 & SpeedCondition               & 4                            & 60                           &  1.494996                    & 2.150787e-01                 &                              & 0.009930599                 \\\\\n",
       "\t4 & IsBumpVirtual:SpeedCondition & 4                            & 60                           &  6.043294                    & 3.735068e-04                 & *                            & 0.011624699                 \\\\\n",
       "\\end{tabular}\n",
       "\n",
       "\\item[\\$`Mauchly's Test for Sphericity`] \\begin{tabular}{r|llll}\n",
       "  & Effect & W & p & p<.05\\\\\n",
       "\\hline\n",
       "\t3 & SpeedCondition               & 0.1958604                    & 0.009821297                  & *                           \\\\\n",
       "\t4 & IsBumpVirtual:SpeedCondition & 0.4504329                    & 0.300571951                  &                             \\\\\n",
       "\\end{tabular}\n",
       "\n",
       "\\item[\\$`Sphericity Corrections`] \\begin{tabular}{r|lllllll}\n",
       "  & Effect & GGe & p{[}GG{]} & p{[}GG{]}<.05 & HFe & p{[}HF{]} & p{[}HF{]}<.05\\\\\n",
       "\\hline\n",
       "\t3 & SpeedCondition               & 0.6146029                    & 0.235609728                  &                              & 0.7442156                    & 0.2290348497                 &                             \\\\\n",
       "\t4 & IsBumpVirtual:SpeedCondition & 0.7132957                    & 0.001853029                  & *                            & 0.8984026                    & 0.0006568297                 & *                           \\\\\n",
       "\\end{tabular}\n",
       "\n",
       "\\end{description}\n"
      ],
      "text/markdown": [
       "$ANOVA\n",
       ":   \n",
       "| <!--/--> | Effect | DFn | DFd | F | p | p<.05 | ges | \n",
       "|---|---|---|\n",
       "| 2 | IsBumpVirtual                | 1                            | 15                           | 68.440588                    | 5.683277e-07                 | *                            | 0.085540770                  | \n",
       "| 3 | SpeedCondition               | 4                            | 60                           |  1.494996                    | 2.150787e-01                 |                              | 0.009930599                  | \n",
       "| 4 | IsBumpVirtual:SpeedCondition | 4                            | 60                           |  6.043294                    | 3.735068e-04                 | *                            | 0.011624699                  | \n",
       "\n",
       "\n",
       "\n",
       "$`Mauchly's Test for Sphericity`\n",
       ":   \n",
       "| <!--/--> | Effect | W | p | p<.05 | \n",
       "|---|---|\n",
       "| 3 | SpeedCondition               | 0.1958604                    | 0.009821297                  | *                            | \n",
       "| 4 | IsBumpVirtual:SpeedCondition | 0.4504329                    | 0.300571951                  |                              | \n",
       "\n",
       "\n",
       "\n",
       "$`Sphericity Corrections`\n",
       ":   \n",
       "| <!--/--> | Effect | GGe | p[GG] | p[GG]<.05 | HFe | p[HF] | p[HF]<.05 | \n",
       "|---|---|\n",
       "| 3 | SpeedCondition               | 0.6146029                    | 0.235609728                  |                              | 0.7442156                    | 0.2290348497                 |                              | \n",
       "| 4 | IsBumpVirtual:SpeedCondition | 0.7132957                    | 0.001853029                  | *                            | 0.8984026                    | 0.0006568297                 | *                            | \n",
       "\n",
       "\n",
       "\n",
       "\n",
       "\n"
      ],
      "text/plain": [
       "$ANOVA\n",
       "                        Effect DFn DFd         F            p p<.05         ges\n",
       "2                IsBumpVirtual   1  15 68.440588 5.683277e-07     * 0.085540770\n",
       "3               SpeedCondition   4  60  1.494996 2.150787e-01       0.009930599\n",
       "4 IsBumpVirtual:SpeedCondition   4  60  6.043294 3.735068e-04     * 0.011624699\n",
       "\n",
       "$`Mauchly's Test for Sphericity`\n",
       "                        Effect         W           p p<.05\n",
       "3               SpeedCondition 0.1958604 0.009821297     *\n",
       "4 IsBumpVirtual:SpeedCondition 0.4504329 0.300571951      \n",
       "\n",
       "$`Sphericity Corrections`\n",
       "                        Effect       GGe       p[GG] p[GG]<.05       HFe\n",
       "3               SpeedCondition 0.6146029 0.235609728           0.7442156\n",
       "4 IsBumpVirtual:SpeedCondition 0.7132957 0.001853029         * 0.8984026\n",
       "         p[HF] p[HF]<.05\n",
       "3 0.2290348497          \n",
       "4 0.0006568297         *\n"
      ]
     },
     "metadata": {},
     "output_type": "display_data"
    }
   ],
   "source": [
    "df = read.csv(\"./data/R_Offset.csv\")\n",
    "df$PId <- factor(df$PId)\n",
    "df$IsBumpVirtual <- factor(df$IsBumpVirtual)\n",
    "df$SpeedCondition <- factor(df$SpeedConditiob\n",
    "                            n)\n",
    "ezANOVA (data = df,\n",
    "        dv = TouchOffset,\n",
    "        within = c(IsBumpVirtual, SpeedCondition),\n",
    "        wid = PId,\n",
    "        type = 3)"
   ]
  },
  {
   "cell_type": "code",
   "execution_count": 9,
   "metadata": {},
   "outputs": [
    {
     "data": {
      "text/html": [
       "<ol class=list-inline>\n",
       "\t<li>1.93289404533391</li>\n",
       "\t<li>1.52927891433733</li>\n",
       "</ol>\n"
      ],
      "text/latex": [
       "\\begin{enumerate*}\n",
       "\\item 1.93289404533391\n",
       "\\item 1.52927891433733\n",
       "\\end{enumerate*}\n"
      ],
      "text/markdown": [
       "1. 1.93289404533391\n",
       "2. 1.52927891433733\n",
       "\n",
       "\n"
      ],
      "text/plain": [
       "[1] 1.932894 1.529279"
      ]
     },
     "metadata": {},
     "output_type": "display_data"
    },
    {
     "data": {
      "text/html": [
       "<ol class=list-inline>\n",
       "\t<li>28.9934106800086</li>\n",
       "\t<li>22.9391837150599</li>\n",
       "</ol>\n"
      ],
      "text/latex": [
       "\\begin{enumerate*}\n",
       "\\item 28.9934106800086\n",
       "\\item 22.9391837150599\n",
       "\\end{enumerate*}\n"
      ],
      "text/markdown": [
       "1. 28.9934106800086\n",
       "2. 22.9391837150599\n",
       "\n",
       "\n"
      ],
      "text/plain": [
       "[1] 28.99341 22.93918"
      ]
     },
     "metadata": {},
     "output_type": "display_data"
    }
   ],
   "source": [
    "mod$\"Sphericity Corrections\"$GGe  * c(4,4)\n",
    "mod$\"Sphericity Corrections\"$GGe  * c(60,60)"
   ]
  },
  {
   "cell_type": "code",
   "execution_count": null,
   "metadata": {},
   "outputs": [],
   "source": []
  }
 ],
 "metadata": {
  "kernelspec": {
   "display_name": "R",
   "language": "R",
   "name": "ir"
  },
  "language_info": {
   "codemirror_mode": "r",
   "file_extension": ".r",
   "mimetype": "text/x-r-source",
   "name": "R",
   "pygments_lexer": "r",
   "version": "3.4.4"
  }
 },
 "nbformat": 4,
 "nbformat_minor": 2
}
