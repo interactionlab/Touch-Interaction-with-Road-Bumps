{
 "cells": [
  {
   "cell_type": "code",
   "execution_count": 1,
   "metadata": {},
   "outputs": [],
   "source": [
    "DATA_PATH = \"./data/\"\n",
    "OUTPUT_PATH = \"./out/\""
   ]
  },
  {
   "cell_type": "code",
   "execution_count": 2,
   "metadata": {},
   "outputs": [],
   "source": [
    "import pandas as pd\n",
    "%matplotlib inline\n",
    "import matplotlib.pyplot as plt\n",
    "import numpy as np\n",
    "\n",
    "import sklearn\n",
    "import sklearn.ensemble \n",
    "import sklearn.metrics\n",
    "import time\n",
    "\n",
    "from sklearn.externals import joblib\n",
    "\n",
    "colorDic = {\"blue\" : \"#6599FF\", \"yellow\" : \"#FFAD33\",  \"purple\": \"#683b96\", \"green\" : \"#198D6D\", \"red\" : \"#FF523F\"}\n",
    "colors = list(colorDic.values())\n",
    "pxToMm= 0.19"
   ]
  },
  {
   "cell_type": "code",
   "execution_count": 3,
   "metadata": {},
   "outputs": [],
   "source": [
    "dfStim = pd.read_pickle(DATA_PATH  + \"data_03_stim.pkl\")"
   ]
  },
  {
   "cell_type": "code",
   "execution_count": 4,
   "metadata": {},
   "outputs": [
    {
     "data": {
      "text/plain": [
       "count    4236.000000\n",
       "mean       50.654622\n",
       "std        34.759247\n",
       "min         0.633333\n",
       "25%        24.463397\n",
       "50%        42.713623\n",
       "75%        68.812181\n",
       "max       180.249827\n",
       "Name: TouchOffset, dtype: float64"
      ]
     },
     "execution_count": 4,
     "metadata": {},
     "output_type": "execute_result"
    }
   ],
   "source": [
    "dfStim[\"RelativeTimePeak\"] = dfStim.TimeRelativ -dfStim.TimePeak\n",
    "dfStim = dfStim[dfStim.IsBumpVirtual == True]\n",
    "dfStim = dfStim[dfStim.TouchType == 2]\n",
    "dfStim = dfStim[dfStim.TimePeak >= 0]\n",
    "TouchEventId = dfStim.groupby([\"TouchId\"])[\"TouchEventId\"].max().values\n",
    "dfStim = dfStim[dfStim.TouchEventId.isin(TouchEventId)]\n",
    "dfStim.TouchOffset.describe()"
   ]
  },
  {
   "cell_type": "code",
   "execution_count": 5,
   "metadata": {},
   "outputs": [
    {
     "name": "stdout",
     "output_type": "stream",
     "text": [
      "Participants in the validation data set [1 3 5]\n",
      "Participants in the       test data set [6 7 8]\n",
      "Participants in the      train data set [ 9 10 11 12 13 14 15 16 17 18]\n"
     ]
    }
   ],
   "source": [
    "split = (65, 22, 22)\n",
    "ps = np.array(sorted(dfStim.PId.unique()))\n",
    "num_pt = len(ps)\n",
    "x1 = (int)(np.floor(len(ps) * split[1] / 100.0))\n",
    "x2 = (int)(np.floor(len(ps) * split[2] / 100.0))\n",
    "split_train = ps[x2+x1:]\n",
    "split_test = ps[x1:x1+x2]\n",
    "split_validation = ps[:x2]\n",
    "\n",
    "dfTrain = dfStim[dfStim.PId.isin(split_train) & (dfStim.VisualStimuliPositionX != sorted(dfStim.VisualStimuliPositionX.unique())[2])& (dfStim.VisualStimuliPositionY != sorted(dfStim.VisualStimuliPositionY.unique())[2])]\n",
    "dfTest = dfStim[dfStim.PId.isin(split_test)]\n",
    "dfValidation = dfStim[dfStim.PId.isin(split_validation)]\n",
    "print(\"Participants in the validation data set %s\" % split_validation)\n",
    "print(\"Participants in the       test data set %s\" % split_test)\n",
    "print(\"Participants in the      train data set %s\" % split_train)"
   ]
  },
  {
   "cell_type": "code",
   "execution_count": 6,
   "metadata": {},
   "outputs": [
    {
     "name": "stdout",
     "output_type": "stream",
     "text": [
      "CPU times: user 2 µs, sys: 3 µs, total: 5 µs\n",
      "Wall time: 15 µs\n"
     ]
    }
   ],
   "source": [
    "%%time\n",
    "def RandomForestRegressor(direction, n_estimators, max_features):\n",
    "    if (direction == \"X\"):\n",
    "        X = dfTrain[[\"SpeedCondition\", \"TouchX\", \"TouchY\", 'Acc', 'RelativeTimePeak', \"PeakValue\"]].values\n",
    "        y = dfTrain.TouchOffsetX.values\n",
    "    elif (direction == \"Y\"):\n",
    "        X = dfTrain[[\"SpeedCondition\", \"TouchX\", \"TouchY\", 'Acc', 'RelativeTimePeak', \"PeakValue\"]].values\n",
    "        y = dfTrain.TouchOffsetY.values\n",
    "    \n",
    "    model = sklearn.ensemble.RandomForestRegressor(n_estimators=int(n_estimators),\n",
    "                                       max_features=int(max_features))\n",
    "    #model.fit(min_max_scaler.transform(X), y)\n",
    "    model.fit(X, y)\n",
    "    #X_test = min_max_scaler.transform(dfTest[[\"SpeedCondition\", \"TouchX\", \"TouchY\", 'Acc', 'RelativeTimePeak', 'PeakValue']].values)\n",
    "    X_test = dfTest[[\"SpeedCondition\", \"TouchX\", \"TouchY\", 'Acc', 'RelativeTimePeak', 'PeakValue']].values\n",
    "    y_rbf = model.predict(X_test)\n",
    "    df = dfTest.copy()\n",
    "    if (direction == \"X\"):\n",
    "        df[\"TouchOffsetXPred\"] = y_rbf\n",
    "        score = model.score(X_test, df.TouchOffsetX.values)\n",
    "        rmse = np.sqrt(sklearn.metrics.mean_squared_error(df.TouchOffsetX.values, df.TouchOffsetXPred))\n",
    "        m = (df.TouchX-df.VisualStimuliPositionX-df.TouchOffsetXPred).mean()\n",
    "        sd = (df.TouchX-df.VisualStimuliPositionX-df.TouchOffsetXPred).std()\n",
    "        return (model, direction, n_estimators, max_features, score, rmse, m, sd)\n",
    "    elif (direction == \"Y\"):\n",
    "        df[\"TouchOffsetYPred\"] = y_rbf\n",
    "        score = model.score(X_test, df.TouchOffsetY.values)\n",
    "        rmse = np.sqrt(sklearn.metrics.mean_squared_error(df.TouchOffsetY.values, df.TouchOffsetYPred))\n",
    "        m = (df.TouchY-df.VisualStimuliPositionY-df.TouchOffsetYPred).mean()\n",
    "        sd = (df.TouchY-df.VisualStimuliPositionY-df.TouchOffsetYPred).std()\n",
    "        return (model, direction, n_estimators, max_features, score, rmse, m, sd)"
   ]
  },
  {
   "cell_type": "code",
   "execution_count": 7,
   "metadata": {
    "scrolled": true
   },
   "outputs": [
    {
     "name": "stdout",
     "output_type": "stream",
     "text": [
      "n_estimators 10 max_features 1 time: 3\n",
      "n_estimators 10 max_features 2 time: 4\n",
      "n_estimators 10 max_features 3 time: 4\n",
      "n_estimators 10 max_features 4 time: 5\n",
      "n_estimators 10 max_features 5 time: 6\n",
      "n_estimators 10 max_features 6 time: 6\n",
      "n_estimators 11 max_features 1 time: 3\n",
      "n_estimators 11 max_features 2 time: 4\n",
      "n_estimators 11 max_features 3 time: 5\n",
      "n_estimators 11 max_features 4 time: 6\n",
      "n_estimators 11 max_features 5 time: 6\n",
      "n_estimators 11 max_features 6 time: 7\n",
      "n_estimators 12 max_features 1 time: 3\n",
      "n_estimators 12 max_features 2 time: 4\n",
      "n_estimators 12 max_features 3 time: 5\n",
      "n_estimators 12 max_features 4 time: 6\n",
      "n_estimators 12 max_features 5 time: 7\n",
      "n_estimators 12 max_features 6 time: 7\n",
      "n_estimators 13 max_features 1 time: 3\n",
      "n_estimators 13 max_features 2 time: 5\n",
      "n_estimators 13 max_features 3 time: 6\n",
      "n_estimators 13 max_features 4 time: 7\n",
      "n_estimators 13 max_features 5 time: 8\n",
      "n_estimators 13 max_features 6 time: 8\n",
      "n_estimators 14 max_features 1 time: 4\n",
      "n_estimators 14 max_features 2 time: 5\n",
      "n_estimators 14 max_features 3 time: 6\n",
      "n_estimators 14 max_features 4 time: 7\n",
      "n_estimators 14 max_features 5 time: 8\n",
      "n_estimators 14 max_features 6 time: 9\n",
      "n_estimators 15 max_features 1 time: 4\n",
      "n_estimators 15 max_features 2 time: 5\n",
      "n_estimators 15 max_features 3 time: 7\n",
      "n_estimators 15 max_features 4 time: 8\n",
      "n_estimators 15 max_features 5 time: 9\n",
      "n_estimators 15 max_features 6 time: 9\n",
      "n_estimators 16 max_features 1 time: 4\n",
      "n_estimators 16 max_features 2 time: 6\n",
      "n_estimators 16 max_features 3 time: 7\n",
      "n_estimators 16 max_features 4 time: 8\n",
      "n_estimators 16 max_features 5 time: 9\n",
      "n_estimators 16 max_features 6 time: 10\n",
      "n_estimators 17 max_features 1 time: 4\n",
      "n_estimators 17 max_features 2 time: 6\n",
      "n_estimators 17 max_features 3 time: 8\n",
      "n_estimators 17 max_features 4 time: 9\n",
      "n_estimators 17 max_features 5 time: 10\n",
      "n_estimators 17 max_features 6 time: 10\n",
      "n_estimators 18 max_features 1 time: 5\n",
      "n_estimators 18 max_features 2 time: 6\n",
      "n_estimators 18 max_features 3 time: 8\n",
      "n_estimators 18 max_features 4 time: 9\n",
      "n_estimators 18 max_features 5 time: 10\n",
      "n_estimators 18 max_features 6 time: 11\n",
      "n_estimators 19 max_features 1 time: 5\n",
      "n_estimators 19 max_features 2 time: 7\n",
      "n_estimators 19 max_features 3 time: 9\n",
      "n_estimators 19 max_features 4 time: 10\n",
      "n_estimators 19 max_features 5 time: 11\n",
      "n_estimators 19 max_features 6 time: 12\n",
      "n_estimators 20 max_features 1 time: 5\n",
      "n_estimators 20 max_features 2 time: 7\n",
      "n_estimators 20 max_features 3 time: 9\n",
      "n_estimators 20 max_features 4 time: 11\n",
      "n_estimators 20 max_features 5 time: 12\n",
      "n_estimators 20 max_features 6 time: 12\n",
      "n_estimators 21 max_features 1 time: 5\n",
      "n_estimators 21 max_features 2 time: 7\n",
      "n_estimators 21 max_features 3 time: 9\n",
      "n_estimators 21 max_features 4 time: 11\n",
      "n_estimators 21 max_features 5 time: 12\n",
      "n_estimators 21 max_features 6 time: 12\n",
      "n_estimators 22 max_features 1 time: 6\n",
      "n_estimators 22 max_features 2 time: 8\n",
      "n_estimators 22 max_features 3 time: 10\n",
      "n_estimators 22 max_features 4 time: 12\n",
      "n_estimators 22 max_features 5 time: 13\n",
      "n_estimators 22 max_features 6 time: 13\n",
      "n_estimators 23 max_features 1 time: 6\n",
      "n_estimators 23 max_features 2 time: 8\n",
      "n_estimators 23 max_features 3 time: 10\n",
      "n_estimators 23 max_features 4 time: 12\n",
      "n_estimators 23 max_features 5 time: 13\n",
      "n_estimators 23 max_features 6 time: 14\n",
      "n_estimators 24 max_features 1 time: 6\n",
      "n_estimators 24 max_features 2 time: 9\n",
      "n_estimators 24 max_features 3 time: 11\n",
      "n_estimators 24 max_features 4 time: 13\n",
      "n_estimators 24 max_features 5 time: 14\n",
      "n_estimators 24 max_features 6 time: 14\n",
      "n_estimators 25 max_features 1 time: 6\n",
      "n_estimators 25 max_features 2 time: 9\n",
      "n_estimators 25 max_features 3 time: 11\n",
      "n_estimators 25 max_features 4 time: 13\n",
      "n_estimators 25 max_features 5 time: 14\n",
      "n_estimators 25 max_features 6 time: 15\n",
      "n_estimators 26 max_features 1 time: 7\n",
      "n_estimators 26 max_features 2 time: 9\n",
      "n_estimators 26 max_features 3 time: 11\n",
      "n_estimators 26 max_features 4 time: 14\n",
      "n_estimators 26 max_features 5 time: 15\n",
      "n_estimators 26 max_features 6 time: 16\n",
      "n_estimators 27 max_features 1 time: 7\n",
      "n_estimators 27 max_features 2 time: 10\n",
      "n_estimators 27 max_features 3 time: 12\n",
      "n_estimators 27 max_features 4 time: 14\n",
      "n_estimators 27 max_features 5 time: 16\n",
      "n_estimators 27 max_features 6 time: 16\n",
      "n_estimators 28 max_features 1 time: 7\n",
      "n_estimators 28 max_features 2 time: 10\n",
      "n_estimators 28 max_features 3 time: 13\n",
      "n_estimators 28 max_features 4 time: 15\n",
      "n_estimators 28 max_features 5 time: 16\n",
      "n_estimators 28 max_features 6 time: 17\n",
      "n_estimators 29 max_features 1 time: 7\n",
      "n_estimators 29 max_features 2 time: 10\n",
      "n_estimators 29 max_features 3 time: 13\n",
      "n_estimators 29 max_features 4 time: 15\n",
      "n_estimators 29 max_features 5 time: 16\n",
      "n_estimators 29 max_features 6 time: 17\n",
      "n_estimators 10 max_features 1 time: 2\n",
      "n_estimators 10 max_features 2 time: 3\n",
      "n_estimators 10 max_features 3 time: 4\n",
      "n_estimators 10 max_features 4 time: 5\n",
      "n_estimators 10 max_features 5 time: 5\n",
      "n_estimators 10 max_features 6 time: 5\n",
      "n_estimators 11 max_features 1 time: 3\n",
      "n_estimators 11 max_features 2 time: 4\n",
      "n_estimators 11 max_features 3 time: 5\n",
      "n_estimators 11 max_features 4 time: 5\n",
      "n_estimators 11 max_features 5 time: 6\n",
      "n_estimators 11 max_features 6 time: 6\n",
      "n_estimators 12 max_features 1 time: 3\n",
      "n_estimators 12 max_features 2 time: 4\n",
      "n_estimators 12 max_features 3 time: 4\n",
      "n_estimators 12 max_features 4 time: 5\n",
      "n_estimators 12 max_features 5 time: 5\n",
      "n_estimators 12 max_features 6 time: 5\n",
      "n_estimators 13 max_features 1 time: 3\n",
      "n_estimators 13 max_features 2 time: 4\n",
      "n_estimators 13 max_features 3 time: 5\n",
      "n_estimators 13 max_features 4 time: 6\n",
      "n_estimators 13 max_features 5 time: 7\n",
      "n_estimators 13 max_features 6 time: 7\n",
      "n_estimators 14 max_features 1 time: 3\n",
      "n_estimators 14 max_features 2 time: 4\n",
      "n_estimators 14 max_features 3 time: 5\n",
      "n_estimators 14 max_features 4 time: 6\n",
      "n_estimators 14 max_features 5 time: 7\n",
      "n_estimators 14 max_features 6 time: 8\n",
      "n_estimators 15 max_features 1 time: 4\n",
      "n_estimators 15 max_features 2 time: 5\n",
      "n_estimators 15 max_features 3 time: 6\n",
      "n_estimators 15 max_features 4 time: 7\n",
      "n_estimators 15 max_features 5 time: 8\n",
      "n_estimators 15 max_features 6 time: 8\n",
      "n_estimators 16 max_features 1 time: 4\n",
      "n_estimators 16 max_features 2 time: 5\n",
      "n_estimators 16 max_features 3 time: 7\n",
      "n_estimators 16 max_features 4 time: 8\n",
      "n_estimators 16 max_features 5 time: 8\n",
      "n_estimators 16 max_features 6 time: 8\n",
      "n_estimators 17 max_features 1 time: 4\n",
      "n_estimators 17 max_features 2 time: 5\n",
      "n_estimators 17 max_features 3 time: 6\n",
      "n_estimators 17 max_features 4 time: 7\n",
      "n_estimators 17 max_features 5 time: 8\n",
      "n_estimators 17 max_features 6 time: 8\n",
      "n_estimators 18 max_features 1 time: 4\n",
      "n_estimators 18 max_features 2 time: 5\n",
      "n_estimators 18 max_features 3 time: 6\n",
      "n_estimators 18 max_features 4 time: 7\n",
      "n_estimators 18 max_features 5 time: 8\n",
      "n_estimators 18 max_features 6 time: 8\n",
      "n_estimators 19 max_features 1 time: 4\n",
      "n_estimators 19 max_features 2 time: 6\n",
      "n_estimators 19 max_features 3 time: 7\n",
      "n_estimators 19 max_features 4 time: 8\n",
      "n_estimators 19 max_features 5 time: 8\n",
      "n_estimators 19 max_features 6 time: 9\n",
      "n_estimators 20 max_features 1 time: 5\n",
      "n_estimators 20 max_features 2 time: 7\n",
      "n_estimators 20 max_features 3 time: 8\n",
      "n_estimators 20 max_features 4 time: 8\n",
      "n_estimators 20 max_features 5 time: 9\n",
      "n_estimators 20 max_features 6 time: 9\n",
      "n_estimators 21 max_features 1 time: 5\n",
      "n_estimators 21 max_features 2 time: 7\n",
      "n_estimators 21 max_features 3 time: 9\n",
      "n_estimators 21 max_features 4 time: 10\n",
      "n_estimators 21 max_features 5 time: 10\n",
      "n_estimators 21 max_features 6 time: 10\n",
      "n_estimators 22 max_features 1 time: 5\n",
      "n_estimators 22 max_features 2 time: 7\n",
      "n_estimators 22 max_features 3 time: 8\n",
      "n_estimators 22 max_features 4 time: 9\n",
      "n_estimators 22 max_features 5 time: 10\n",
      "n_estimators 22 max_features 6 time: 10\n",
      "n_estimators 23 max_features 1 time: 5\n",
      "n_estimators 23 max_features 2 time: 7\n",
      "n_estimators 23 max_features 3 time: 8\n",
      "n_estimators 23 max_features 4 time: 9\n",
      "n_estimators 23 max_features 5 time: 10\n",
      "n_estimators 23 max_features 6 time: 11\n",
      "n_estimators 24 max_features 1 time: 5\n",
      "n_estimators 24 max_features 2 time: 7\n",
      "n_estimators 24 max_features 3 time: 9\n",
      "n_estimators 24 max_features 4 time: 10\n",
      "n_estimators 24 max_features 5 time: 11\n"
     ]
    },
    {
     "name": "stdout",
     "output_type": "stream",
     "text": [
      "n_estimators 24 max_features 6 time: 11\n",
      "n_estimators 25 max_features 1 time: 5\n",
      "n_estimators 25 max_features 2 time: 7\n",
      "n_estimators 25 max_features 3 time: 9\n",
      "n_estimators 25 max_features 4 time: 10\n",
      "n_estimators 25 max_features 5 time: 11\n",
      "n_estimators 25 max_features 6 time: 12\n",
      "n_estimators 26 max_features 1 time: 6\n",
      "n_estimators 26 max_features 2 time: 8\n",
      "n_estimators 26 max_features 3 time: 9\n",
      "n_estimators 26 max_features 4 time: 11\n",
      "n_estimators 26 max_features 5 time: 12\n",
      "n_estimators 26 max_features 6 time: 12\n",
      "n_estimators 27 max_features 1 time: 6\n",
      "n_estimators 27 max_features 2 time: 8\n",
      "n_estimators 27 max_features 3 time: 10\n",
      "n_estimators 27 max_features 4 time: 11\n",
      "n_estimators 27 max_features 5 time: 12\n",
      "n_estimators 27 max_features 6 time: 12\n",
      "n_estimators 28 max_features 1 time: 6\n",
      "n_estimators 28 max_features 2 time: 8\n",
      "n_estimators 28 max_features 3 time: 10\n",
      "n_estimators 28 max_features 4 time: 12\n",
      "n_estimators 28 max_features 5 time: 12\n",
      "n_estimators 28 max_features 6 time: 13\n",
      "n_estimators 29 max_features 1 time: 6\n",
      "n_estimators 29 max_features 2 time: 9\n",
      "n_estimators 29 max_features 3 time: 10\n",
      "n_estimators 29 max_features 4 time: 12\n",
      "n_estimators 29 max_features 5 time: 13\n",
      "n_estimators 29 max_features 6 time: 13\n",
      "CPU times: user 34min 39s, sys: 404 ms, total: 34min 40s\n",
      "Wall time: 34min 40s\n"
     ]
    }
   ],
   "source": [
    "%%time\n",
    "lst = []\n",
    "for direction in [\"X\", \"Y\"]:\n",
    "    RMSE = np.infty\n",
    "    for n_estimators in range(10, 30):\n",
    "        for max_features in range(1, 7):\n",
    "            start = time.time()\n",
    "            for runs in range(100):\n",
    "                model, direction, n_estimators, max_features, score, rmse, m, sd = RandomForestRegressor(direction, n_estimators, max_features)\n",
    "                if RMSE > rmse:\n",
    "                    RMSE = rmse\n",
    "                    #joblib.dump(model, '%s/Model_RF_%s.pkl' % (OUTPUT_PATH, direction)) \n",
    "                lst.append((direction, n_estimators, max_features, score, rmse, m, sd ))\n",
    "            stop = time.time()\n",
    "            print(\"n_estimators %i max_features %i time: %i\" % (n_estimators, max_features, (stop-start)))"
   ]
  },
  {
   "cell_type": "code",
   "execution_count": 8,
   "metadata": {},
   "outputs": [],
   "source": [
    "df2 = pd.DataFrame(lst, columns=[\"Direction\", \"n_estimators\", \"max_features\", \"Score\", \"RMSE\", \"M\", \"SD\"])"
   ]
  },
  {
   "cell_type": "code",
   "execution_count": 10,
   "metadata": {},
   "outputs": [
    {
     "data": {
      "text/html": [
       "<div>\n",
       "<style scoped>\n",
       "    .dataframe tbody tr th:only-of-type {\n",
       "        vertical-align: middle;\n",
       "    }\n",
       "\n",
       "    .dataframe tbody tr th {\n",
       "        vertical-align: top;\n",
       "    }\n",
       "\n",
       "    .dataframe thead th {\n",
       "        text-align: right;\n",
       "    }\n",
       "</style>\n",
       "<table border=\"1\" class=\"dataframe\">\n",
       "  <thead>\n",
       "    <tr style=\"text-align: right;\">\n",
       "      <th></th>\n",
       "      <th>Direction</th>\n",
       "      <th>n_estimators</th>\n",
       "      <th>max_features</th>\n",
       "      <th>Score</th>\n",
       "      <th>RMSE</th>\n",
       "      <th>M</th>\n",
       "      <th>SD</th>\n",
       "    </tr>\n",
       "  </thead>\n",
       "  <tbody>\n",
       "    <tr>\n",
       "      <th>5695</th>\n",
       "      <td>X</td>\n",
       "      <td>19</td>\n",
       "      <td>3</td>\n",
       "      <td>0.45</td>\n",
       "      <td>27.74</td>\n",
       "      <td>1.43</td>\n",
       "      <td>27.72</td>\n",
       "    </tr>\n",
       "    <tr>\n",
       "      <th>6831</th>\n",
       "      <td>X</td>\n",
       "      <td>21</td>\n",
       "      <td>3</td>\n",
       "      <td>0.44</td>\n",
       "      <td>27.83</td>\n",
       "      <td>0.73</td>\n",
       "      <td>27.84</td>\n",
       "    </tr>\n",
       "    <tr>\n",
       "      <th>5684</th>\n",
       "      <td>X</td>\n",
       "      <td>19</td>\n",
       "      <td>3</td>\n",
       "      <td>0.44</td>\n",
       "      <td>27.88</td>\n",
       "      <td>0.84</td>\n",
       "      <td>27.88</td>\n",
       "    </tr>\n",
       "    <tr>\n",
       "      <th>11691</th>\n",
       "      <td>X</td>\n",
       "      <td>29</td>\n",
       "      <td>3</td>\n",
       "      <td>0.44</td>\n",
       "      <td>27.91</td>\n",
       "      <td>1.96</td>\n",
       "      <td>27.86</td>\n",
       "    </tr>\n",
       "    <tr>\n",
       "      <th>8092</th>\n",
       "      <td>X</td>\n",
       "      <td>23</td>\n",
       "      <td>3</td>\n",
       "      <td>0.44</td>\n",
       "      <td>27.92</td>\n",
       "      <td>1.65</td>\n",
       "      <td>27.89</td>\n",
       "    </tr>\n",
       "  </tbody>\n",
       "</table>\n",
       "</div>"
      ],
      "text/plain": [
       "      Direction  n_estimators  max_features  Score   RMSE     M     SD\n",
       "5695          X            19             3   0.45  27.74  1.43  27.72\n",
       "6831          X            21             3   0.44  27.83  0.73  27.84\n",
       "5684          X            19             3   0.44  27.88  0.84  27.88\n",
       "11691         X            29             3   0.44  27.91  1.96  27.86\n",
       "8092          X            23             3   0.44  27.92  1.65  27.89"
      ]
     },
     "execution_count": 10,
     "metadata": {},
     "output_type": "execute_result"
    }
   ],
   "source": [
    "df2[df2.Direction == \"X\"].sort_values(\"RMSE\").head().round(2)"
   ]
  },
  {
   "cell_type": "code",
   "execution_count": 12,
   "metadata": {},
   "outputs": [
    {
     "data": {
      "text/html": [
       "<div>\n",
       "<style scoped>\n",
       "    .dataframe tbody tr th:only-of-type {\n",
       "        vertical-align: middle;\n",
       "    }\n",
       "\n",
       "    .dataframe tbody tr th {\n",
       "        vertical-align: top;\n",
       "    }\n",
       "\n",
       "    .dataframe thead th {\n",
       "        text-align: right;\n",
       "    }\n",
       "</style>\n",
       "<table border=\"1\" class=\"dataframe\">\n",
       "  <thead>\n",
       "    <tr style=\"text-align: right;\">\n",
       "      <th></th>\n",
       "      <th>Direction</th>\n",
       "      <th>n_estimators</th>\n",
       "      <th>max_features</th>\n",
       "      <th>Score</th>\n",
       "      <th>RMSE</th>\n",
       "      <th>M</th>\n",
       "      <th>SD</th>\n",
       "    </tr>\n",
       "  </thead>\n",
       "  <tbody>\n",
       "    <tr>\n",
       "      <th>21790</th>\n",
       "      <td>Y</td>\n",
       "      <td>26</td>\n",
       "      <td>2</td>\n",
       "      <td>0.25</td>\n",
       "      <td>41.82</td>\n",
       "      <td>-10.31</td>\n",
       "      <td>40.56</td>\n",
       "    </tr>\n",
       "    <tr>\n",
       "      <th>13939</th>\n",
       "      <td>Y</td>\n",
       "      <td>13</td>\n",
       "      <td>2</td>\n",
       "      <td>0.25</td>\n",
       "      <td>41.85</td>\n",
       "      <td>-9.72</td>\n",
       "      <td>40.73</td>\n",
       "    </tr>\n",
       "    <tr>\n",
       "      <th>12175</th>\n",
       "      <td>Y</td>\n",
       "      <td>10</td>\n",
       "      <td>2</td>\n",
       "      <td>0.24</td>\n",
       "      <td>41.97</td>\n",
       "      <td>-11.65</td>\n",
       "      <td>40.34</td>\n",
       "    </tr>\n",
       "    <tr>\n",
       "      <th>23595</th>\n",
       "      <td>Y</td>\n",
       "      <td>29</td>\n",
       "      <td>2</td>\n",
       "      <td>0.24</td>\n",
       "      <td>42.10</td>\n",
       "      <td>-11.13</td>\n",
       "      <td>40.62</td>\n",
       "    </tr>\n",
       "    <tr>\n",
       "      <th>12122</th>\n",
       "      <td>Y</td>\n",
       "      <td>10</td>\n",
       "      <td>2</td>\n",
       "      <td>0.24</td>\n",
       "      <td>42.11</td>\n",
       "      <td>-10.59</td>\n",
       "      <td>40.78</td>\n",
       "    </tr>\n",
       "  </tbody>\n",
       "</table>\n",
       "</div>"
      ],
      "text/plain": [
       "      Direction  n_estimators  max_features  Score   RMSE      M     SD\n",
       "21790         Y            26             2   0.25  41.82 -10.31  40.56\n",
       "13939         Y            13             2   0.25  41.85  -9.72  40.73\n",
       "12175         Y            10             2   0.24  41.97 -11.65  40.34\n",
       "23595         Y            29             2   0.24  42.10 -11.13  40.62\n",
       "12122         Y            10             2   0.24  42.11 -10.59  40.78"
      ]
     },
     "execution_count": 12,
     "metadata": {},
     "output_type": "execute_result"
    }
   ],
   "source": [
    "df2[df2.Direction == \"Y\"].sort_values(\"RMSE\").head().round(2)"
   ]
  },
  {
   "cell_type": "code",
   "execution_count": 13,
   "metadata": {},
   "outputs": [
    {
     "data": {
      "text/plain": [
       "RandomForestRegressor(bootstrap=True, criterion='mse', max_depth=None,\n",
       "           max_features=3, max_leaf_nodes=None, min_impurity_decrease=0.0,\n",
       "           min_impurity_split=None, min_samples_leaf=1,\n",
       "           min_samples_split=2, min_weight_fraction_leaf=0.0,\n",
       "           n_estimators=19, n_jobs=1, oob_score=False, random_state=None,\n",
       "           verbose=0, warm_start=False)"
      ]
     },
     "execution_count": 13,
     "metadata": {},
     "output_type": "execute_result"
    }
   ],
   "source": [
    "joblib.load('%s/Model_RF_%s.pkl' % (OUTPUT_PATH, \"X\"))"
   ]
  },
  {
   "cell_type": "code",
   "execution_count": 14,
   "metadata": {},
   "outputs": [
    {
     "data": {
      "text/plain": [
       "RandomForestRegressor(bootstrap=True, criterion='mse', max_depth=None,\n",
       "           max_features=2, max_leaf_nodes=None, min_impurity_decrease=0.0,\n",
       "           min_impurity_split=None, min_samples_leaf=1,\n",
       "           min_samples_split=2, min_weight_fraction_leaf=0.0,\n",
       "           n_estimators=26, n_jobs=1, oob_score=False, random_state=None,\n",
       "           verbose=0, warm_start=False)"
      ]
     },
     "execution_count": 14,
     "metadata": {},
     "output_type": "execute_result"
    }
   ],
   "source": [
    "joblib.load('%s/Model_RF_%s.pkl' % (OUTPUT_PATH, \"Y\"))"
   ]
  },
  {
   "cell_type": "code",
   "execution_count": 17,
   "metadata": {},
   "outputs": [
    {
     "name": "stdout",
     "output_type": "stream",
     "text": [
      "X\n",
      "X 0.4469550704611944 27.740068993991844 17.590499590499576 21.46279718680837\n"
     ]
    },
    {
     "data": {
      "image/png": "[encoded data removed]",
      "text/plain": [
       "<Figure size 432x288 with 1 Axes>"
      ]
     },
     "metadata": {},
     "output_type": "display_data"
    },
    {
     "name": "stdout",
     "output_type": "stream",
     "text": [
      "Y\n",
      "Y 0.24780084224342447 41.8240640366161 29.62323599823593 29.542993132153757\n"
     ]
    },
    {
     "data": {
      "image/png": "[encoded data removed]",
      "text/plain": [
       "<Figure size 432x288 with 1 Axes>"
      ]
     },
     "metadata": {},
     "output_type": "display_data"
    }
   ],
   "source": [
    "df = dfTest.copy()\n",
    "lst = []\n",
    "for direction in [\"X\", \"Y\"]:\n",
    "    print (direction)\n",
    "    model = joblib.load('%s/Model_RF_%s.pkl' % (OUTPUT_PATH, direction)) \n",
    "    \n",
    "    X_test = dfTest[[\"SpeedCondition\", \"TouchX\", \"TouchY\", 'Acc', 'RelativeTimePeak', 'PeakValue']].values\n",
    "    y_rbf = model.predict(X_test)\n",
    "    if (direction == \"X\"):\n",
    "        df[\"TouchOffsetXPred\"] = y_rbf\n",
    "        score = model.score(X_test, df.TouchOffsetX.values)\n",
    "        rmse = np.sqrt(sklearn.metrics.mean_squared_error(df.TouchOffsetX.values, df.TouchOffsetXPred))\n",
    "        m = (df.TouchX-df.VisualStimuliPositionX-df.TouchOffsetXPred).abs().mean()\n",
    "        sd = (df.TouchX-df.VisualStimuliPositionX-df.TouchOffsetXPred).abs().std()\n",
    "        \n",
    "    elif (direction == \"Y\"):\n",
    "        df[\"TouchOffsetYPred\"] = y_rbf\n",
    "        score = model.score(X_test, df.TouchOffsetY.values)\n",
    "        rmse = np.sqrt(sklearn.metrics.mean_squared_error(df.TouchOffsetY.values, df.TouchOffsetYPred))\n",
    "        m = (df.TouchY-df.VisualStimuliPositionY-df.TouchOffsetYPred).abs().mean()\n",
    "        sd = (df.TouchY-df.VisualStimuliPositionY-df.TouchOffsetYPred).abs().std()\n",
    "    lst.append([rmse, m, sd])\n",
    "    print (direction, score, rmse, m, sd)\n",
    "    \n",
    "    if (direction == \"X\"):\n",
    "        (df.TouchX-df.VisualStimuliPositionX).hist(bins=100, label=\"No Correction\")\n",
    "        (df.TouchX-df.VisualStimuliPositionX-df.TouchOffsetXPred).hist(bins=100, label=\"Correction\")\n",
    "    else:\n",
    "        (df.TouchY-df.VisualStimuliPositionY).hist(bins=100, label=\"No Correction\")\n",
    "        (df.TouchY-df.VisualStimuliPositionY-df.TouchOffsetYPred).hist(bins=100, label=\"Correction\")\n",
    "    plt.title(direction)\n",
    "    plt.legend()\n",
    "    plt.show()"
   ]
  },
  {
   "cell_type": "code",
   "execution_count": 18,
   "metadata": {},
   "outputs": [
    {
     "name": "stdout",
     "output_type": "stream",
     "text": [
      " Baseline (no correction) & 38.23 & 28.64 & 25.33 & 50.45 & 38.62 & 25.33 & 53.11 & 34.46 & "
     ]
    }
   ],
   "source": [
    "lstBaseline = []\n",
    "\n",
    "lstBaseline.append(np.sqrt(sklearn.metrics.mean_squared_error(dfTest.TouchX.values, dfTest.VisualStimuliPositionX)))\n",
    "lstBaseline.append(dfTest.TouchOffsetX.abs().mean())\n",
    "lstBaseline.append(dfTest.TouchOffsetX.abs().std())\n",
    "lstBaseline.append(np.sqrt(sklearn.metrics.mean_squared_error(dfTest.TouchY.values, dfTest.VisualStimuliPositionY)))\n",
    "lstBaseline.append(dfTest.TouchOffsetY.abs().mean())\n",
    "lstBaseline.append(dfTest.TouchOffsetX.abs().std())\n",
    "overallbaseline = np.sqrt((dfTest.TouchOffsetX*dfTest.TouchOffsetX + (dfTest.TouchOffsetY*dfTest.TouchOffsetY)))\n",
    "lstBaseline.append(overallbaseline.mean())\n",
    "lstBaseline.append(overallbaseline.std())\n",
    "print(\" Baseline (no correction) & \", end='')\n",
    "for x in np.array(lstBaseline).flatten():\n",
    "    print(\"%.2f & \" % x, end='')"
   ]
  },
  {
   "cell_type": "code",
   "execution_count": 21,
   "metadata": {},
   "outputs": [
    {
     "name": "stdout",
     "output_type": "stream",
     "text": [
      "RF & 27.74 & 17.59 & 21.46 & 41.82 & 29.62 & 29.54 & 36.10 & 30.24"
     ]
    },
    {
     "data": {
      "text/plain": [
       "'In detail, the RF improved the x-direction of the touch by $38.6%$ in absolute mean error and the model to correct the y-offset improved by $23.3%$. By combining both models, we improved touch accuracy by $32.0%$.'"
      ]
     },
     "execution_count": 21,
     "metadata": {},
     "output_type": "execute_result"
    }
   ],
   "source": [
    "distanceX = df.TouchX-df.VisualStimuliPositionX\n",
    "distanceY = df.TouchY-df.VisualStimuliPositionY\n",
    "distanceXCorr = df.TouchX-df.VisualStimuliPositionX-df.TouchOffsetXPred\n",
    "distanceYCorr = df.TouchY-df.VisualStimuliPositionY-df.TouchOffsetYPred\n",
    "\n",
    "offset = np.sqrt((distanceX*distanceX) + (distanceY*distanceY))\n",
    "offsetCorr = np.sqrt((distanceXCorr*distanceXCorr) + (distanceYCorr*distanceYCorr))\n",
    "#print(offset.mean().round(2))\n",
    "#print(offset.std().round(2))\n",
    "\n",
    "print(\"RF & \", end='')\n",
    "for x in np.array(lst).flatten():\n",
    "    print(\"%.2f & \" % x, end='')\n",
    "print(\"%.2f & \" % offsetCorr.mean(), end='')\n",
    "print(\"%.2f\" % offsetCorr.std(), end='')\n",
    "\n",
    "\n",
    "xCorrectionP = (1-(lst[0][1]/lstBaseline[1]))*100\n",
    "yCorrectionP = (1-(lst[1][1]/lstBaseline[4]))*100\n",
    "overallCorrecionP = ((1-(offsetCorr.mean()/lstBaseline[-2]))*100)\n",
    "'In detail, the RF improved the x-direction of the touch by $'+str(xCorrectionP.round(1))+'%$ in absolute mean error and the model to correct the y-offset improved by $'+str(yCorrectionP.round(1))+'%$. By combining both models, we improved touch accuracy by $'+str(overallCorrecionP.round(1))+'%$.'"
   ]
  },
  {
   "cell_type": "markdown",
   "metadata": {},
   "source": [
    "# VALIDATION"
   ]
  },
  {
   "cell_type": "code",
   "execution_count": 20,
   "metadata": {
    "scrolled": false
   },
   "outputs": [
    {
     "name": "stdout",
     "output_type": "stream",
     "text": [
      "X\n",
      "X 0.42344101259445466 28.0141549363025 -2.2436281179138153 27.943180771678207\n"
     ]
    },
    {
     "data": {
      "image/png": "[encoded data removed]",
      "text/plain": [
       "<Figure size 432x288 with 1 Axes>"
      ]
     },
     "metadata": {},
     "output_type": "display_data"
    },
    {
     "name": "stdout",
     "output_type": "stream",
     "text": [
      "Y\n",
      "Y 0.2601775118355797 37.83481817242806 -1.3560823303680198 37.83625559948718\n"
     ]
    },
    {
     "data": {
      "image/png": "[encoded data removed]",
      "text/plain": [
       "<Figure size 432x288 with 1 Axes>"
      ]
     },
     "metadata": {},
     "output_type": "display_data"
    },
    {
     "name": "stdout",
     "output_type": "stream",
     "text": [
      "46.57\n",
      "33.93\n",
      "In px:  27.74 &  17.59 &  21.46 &  41.82 &  29.62 &  29.54 &  36.10 &  30.24\n",
      "In mm:  5.3 &  3.3 &  4.1 &  7.9 &  5.6 &  5.6 &  6.9 &  5.7\n",
      "Which therefore reduced the touch offset on the validation set by 22.5.\n"
     ]
    }
   ],
   "source": [
    "kernel = \"rbf\"  \n",
    "dataX = [22, 3]\n",
    "dataY = [16, 2]\n",
    "df = dfValidation.copy()\n",
    "for direction in [\"X\", \"Y\"]:\n",
    "    print (direction)\n",
    "    model = joblib.load('%s/Model_RF_%s.pkl' % (OUTPUT_PATH, direction)) \n",
    "    \n",
    "    X_test = dfValidation[[\"SpeedCondition\", \"TouchX\", \"TouchY\", 'Acc', 'RelativeTimePeak', 'PeakValue']].values\n",
    "    y_rbf = model.predict(X_test)\n",
    "    if (direction == \"X\"):\n",
    "        df[\"TouchOffsetXPred\"] = y_rbf\n",
    "        score = model.score(X_test, df.TouchOffsetX.values)\n",
    "        rmse = np.sqrt(sklearn.metrics.mean_squared_error(df.TouchOffsetX.values, df.TouchOffsetXPred))\n",
    "        m = (df.TouchX-df.VisualStimuliPositionX-df.TouchOffsetXPred).mean()\n",
    "        sd = (df.TouchX-df.VisualStimuliPositionX-df.TouchOffsetXPred).std()\n",
    "        \n",
    "    elif (direction == \"Y\"):\n",
    "        df[\"TouchOffsetYPred\"] = y_rbf\n",
    "        score = model.score(X_test, df.TouchOffsetY.values)\n",
    "        rmse = np.sqrt(sklearn.metrics.mean_squared_error(df.TouchOffsetY.values, df.TouchOffsetYPred))\n",
    "        m = (df.TouchY-df.VisualStimuliPositionY-df.TouchOffsetYPred).mean()\n",
    "        sd = (df.TouchY-df.VisualStimuliPositionY-df.TouchOffsetYPred).std()\n",
    "    \n",
    "    print (direction, score, rmse, m, sd)\n",
    "    \n",
    "    if (direction == \"X\"):\n",
    "        (df.TouchX-df.VisualStimuliPositionX).hist(bins=100, label=\"No Correction\")\n",
    "        (df.TouchX-df.VisualStimuliPositionX-df.TouchOffsetXPred).hist(bins=100, label=\"Correction\")\n",
    "    else:\n",
    "        (df.TouchY-df.VisualStimuliPositionY).hist(bins=100, label=\"No Correction\")\n",
    "        (df.TouchY-df.VisualStimuliPositionY-df.TouchOffsetYPred).hist(bins=100, label=\"Correction\")\n",
    "    plt.title(direction)\n",
    "    plt.legend()\n",
    "    plt.show()\n",
    "distanceX = df.TouchX-df.VisualStimuliPositionX\n",
    "distanceY = df.TouchY-df.VisualStimuliPositionY\n",
    "distanceXCorr = df.TouchX-df.VisualStimuliPositionX-df.TouchOffsetXPred\n",
    "distanceYCorr = df.TouchY-df.VisualStimuliPositionY-df.TouchOffsetYPred\n",
    "\n",
    "offset = np.sqrt((distanceX*distanceX) + (distanceY*distanceY))\n",
    "offsetCorr = np.sqrt((distanceXCorr*distanceXCorr) + (distanceYCorr*distanceYCorr))\n",
    "print(offset.mean().round(2))\n",
    "print(offset.std().round(2))\n",
    "\n",
    "print(\"In px: \", end='')\n",
    "for x in np.array(lst).flatten():\n",
    "    print(\" %.2f & \" % x, end='')\n",
    "print(\" %.2f & \" % offsetCorr.mean(), end='')\n",
    "print(\" %.2f\" % offsetCorr.std(), end='')\n",
    "\n",
    "print(\"\")\n",
    "print(\"In mm: \", end='')\n",
    "for x in np.array(lst).flatten():\n",
    "    print(\" %.1f & \" % (x*pxToMm), end='')\n",
    "print(\" %.1f & \" % (offsetCorr.mean()*pxToMm), end='')\n",
    "print(\" %.1f\" % (offsetCorr.std()*pxToMm), end='')\n",
    "\n",
    "overallValidation = np.sqrt((dfValidation.TouchOffsetX*dfValidation.TouchOffsetX + (dfValidation.TouchOffsetY*dfValidation.TouchOffsetY)))\n",
    "overallValidationP = ((1-offsetCorr.mean()/overallValidation.mean())*100)\n",
    "print(\"\")\n",
    "print('Which therefore reduced the touch offset on the validation set by %.1f.' % overallValidationP)"
   ]
  },
  {
   "cell_type": "code",
   "execution_count": null,
   "metadata": {},
   "outputs": [],
   "source": []
  }
 ],
 "metadata": {
  "kernelspec": {
   "display_name": "Python 3",
   "language": "python",
   "name": "python3"
  },
  "language_info": {
   "codemirror_mode": {
    "name": "ipython",
    "version": 3
   },
   "file_extension": ".py",
   "mimetype": "text/x-python",
   "name": "python",
   "nbconvert_exporter": "python",
   "pygments_lexer": "ipython3",
   "version": "3.6.5"
  }
 },
 "nbformat": 4,
 "nbformat_minor": 2
}
